{
  "nbformat": 4,
  "nbformat_minor": 0,
  "metadata": {
    "colab": {
      "provenance": [],
      "include_colab_link": true
    },
    "kernelspec": {
      "name": "python3",
      "display_name": "Python 3"
    }
  },
  "cells": [
    {
      "cell_type": "markdown",
      "metadata": {
        "id": "view-in-github",
        "colab_type": "text"
      },
      "source": [
        "<a href=\"https://colab.research.google.com/github/BrunoRittatore/Diplomatura-DataScience-IA-2024/blob/master/M0_U1_Introducci%C3%B3n_a_la_Programaci%C3%B3n_Clase_1.ipynb\" target=\"_parent\"><img src=\"https://colab.research.google.com/assets/colab-badge.svg\" alt=\"Open In Colab\"/></a>"
      ]
    },
    {
      "cell_type": "markdown",
      "source": [
        "<p align=\"right\">\n",
        "<img\n",
        "     src=\"https://github.com/HX-PRomero/DiploDataScience/blob/main/_scr/assets/encabezado%20Diplomatura%20en%20Ciencia%20de%20Datos%20.png?raw=true\"\n",
        "     alt=\"pypl\"\n",
        "     width=60%\n",
        "     height=60%>\n",
        "</p>"
      ],
      "metadata": {
        "id": "-okUjg34w9U6"
      }
    },
    {
      "cell_type": "markdown",
      "source": [
        "Este cuaderno está basado en el utilizado durante la edición 2021 de la diplomatura, a cargo de:\n",
        "\n",
        "\n",
        "*   Luis Biedma\n",
        "*   Sofía Luján\n",
        "*   Julieta Bergamasco\n",
        "\n"
      ],
      "metadata": {
        "id": "WAMk8jRn89ZG"
      }
    },
    {
      "cell_type": "markdown",
      "metadata": {
        "id": "mgqhxY2yCx6i"
      },
      "source": [
        "# MÓDULO 0. Unidad 1 - Clase 1\n",
        "\n",
        "---\n",
        "\n",
        "> Elementos de programación y programación en Python.\n",
        "\n",
        "> Herramienta principal: Collaboratory.\n",
        "\n",
        "> Variables.\n",
        "\n",
        "> Operadores lógicos y matemáticos.\n",
        "\n",
        "\n",
        "\n"
      ]
    },
    {
      "cell_type": "markdown",
      "metadata": {
        "id": "qliXmtgXzm5h"
      },
      "source": [
        "Este curso tiene como **objetivo principal** aprender conceptos básicos de programación sobre el lenguaje Python, de forma que les permita cargar datos desde diversos tipos de fuentes, manipular y transformar conjuntos de datos y representar información gráficamente de manera sencilla. **Está orientado a aquellas personas que no tienen experiencia programando en Python u otros lenguajes orientados a objetos (OOP).**\n",
        "\n",
        "La dinámica del curso incluirá ejercicios de práctica durante el cursado.\n",
        "\n",
        "**Nota:** ¡Para poder guardar los ejercicios que resuelvan les recomendamos guardar una copia del documento en su Google Drive!"
      ]
    },
    {
      "cell_type": "markdown",
      "metadata": {
        "id": "O63cYKbC1ABf"
      },
      "source": [
        "# ¿Qué es la Programación?"
      ]
    },
    {
      "cell_type": "markdown",
      "source": [
        "La **programación** es el proceso de diseñar e implementar un programa de computadora, utilizando algún lenguaje que permita comunicar una serie de instrucciones o acciones que se pretende que la computadora realice. Podemos pensar que es como una línea de producción que recibe un input/entrada (información), realiza algún procesamiento o acción (programa), y devuelve un output/salida (información procesada)."
      ],
      "metadata": {
        "id": "JkhdWkWKyTST"
      }
    },
    {
      "cell_type": "markdown",
      "metadata": {
        "id": "FKxyOvV40jf8"
      },
      "source": [
        "<p align=\"center\">\n",
        "<img\n",
        "     src=\"https://github.com/HX-PRomero/DiploDataScience/blob/main/_scr/assets/Machinev1.png?raw=true\"\n",
        "     alt=\"pypl\"\n",
        "     width=60%\n",
        "     height=60%>\n",
        "</p>\n"
      ]
    },
    {
      "cell_type": "markdown",
      "source": [
        "## Lenguajes de Programación\n",
        "Un lenguaje de programación es un [lenguaje formal](https://es.wikipedia.org/wiki/Lenguaje_formal) que le permiten a una persona escribir secuencias de órdenes o instrucciones para controlar el comportamiento físico y lógico de una computadora, con el objetivo de que produzca/ejecute ciertas acciones deseadas."
      ],
      "metadata": {
        "id": "y7KHI64gyd6h"
      }
    },
    {
      "cell_type": "markdown",
      "metadata": {
        "id": "ZqGv35XH1Y1G"
      },
      "source": [
        "### ¿Por qué Python?\n",
        "Python es uno de los lenguajes de programación con **reglas más simples e intuitivas** que existen; esto explica la creciente popularidad que ha tenido en los últimos tiempos.\n",
        "\n",
        "Es un lenguaje utilizado con **múltiples propósitos**, entre ellos la manipulación y procesamiento de datos, y es uno de los más populares en el campo de la ciencia de datos (junto con R).\n",
        "\n",
        "Una ventaja muy importante es que la **comunidad** de Python es una de las más grandes. Por lo tanto, ante cualquier duda que les surja, pueden buscarla (googlearla) y seguramente encontrarán a alguien que ya haya tenido ese mismo problema. Una de los sitios web más conocidos para este fin es [StackOverflow](https://stackoverflow.com/)."
      ]
    },
    {
      "cell_type": "markdown",
      "metadata": {
        "id": "yp0Fc7PIqiaQ"
      },
      "source": [
        "Su [popularidad](https://www.tiobe.com/tiobe-index/) es un dato no menor, además de una de sus grandes [ventajas](https://learnpython.com/blog/why-is-python-so-popular/). El siguiente gráfico ilustra cuán usado es respecto a otros lenguajes, así como también el crecimiento de su uso en el tiempo.\n",
        "\n",
        "<p align=\"center\">\n",
        "<img\n",
        "     src=\"https://github.com/HX-PRomero/DiploDataScience/blob/main/_scr/assets/pop_python.png?raw=true\"\n",
        "     alt=\"pypl\"\n",
        "     width=60%\n",
        "     height=100%>\n",
        "</p>\n",
        "\n",
        "Y [acá](https://github.com/readme/nasa-ingenuity-helicopter), un ejemplo de lo versátil y potente que es este lenguaje.\n"
      ]
    },
    {
      "cell_type": "markdown",
      "metadata": {
        "id": "Kpu7XfPtYfOR"
      },
      "source": [
        "# ¿Qué es un Notebook?"
      ]
    },
    {
      "cell_type": "code",
      "source": [
        "print(\"HOLA A TODOS\")"
      ],
      "metadata": {
        "id": "_4u0MHACkS6F",
        "colab": {
          "base_uri": "https://localhost:8080/"
        },
        "outputId": "10747388-281d-450e-c428-d219e77266a0"
      },
      "execution_count": null,
      "outputs": [
        {
          "output_type": "stream",
          "name": "stdout",
          "text": [
            "HOLA A TODOS\n"
          ]
        }
      ]
    },
    {
      "cell_type": "markdown",
      "metadata": {
        "id": "4Hu--qH4Yptn"
      },
      "source": [
        "Un notebook es un tipo de documento (archivo) que nos permite alternar bloques de texto con bloques de código ejecutable. A cada bloque dentro del notebook lo denominamos **celda**.\n",
        "\n",
        "Una celda puede ser del **tipo texto** (como el bloque en donde está escrito este contenido) o del **tipo código** (donde vamos a escribir nuestros programas).\n",
        "\n",
        "## ¿Cómo se ejecuta una celda de tipo código?\n",
        "\n",
        "- Una opción es presionando **`Ctrl+Enter`** (o si tenés MAC, **`Cmd+Enter`**)\n",
        "- Otra forma de ejecutarlo es presionando el botón que aparece en la esquina superior izquierda del cuadro de texto con el código (parecido a *play*).\n",
        "- Siempre de arriba hacia abajo (mantenerse ordenado, por cuestiones de reproducibilidad)."
      ]
    },
    {
      "cell_type": "markdown",
      "source": [
        "En el siguiente link, [Markdown Cheat Sheet](https://www.markdownguide.org/cheat-sheet/), se puede encontrar una descripción general rápida de todos los elementos de sintaxis de Markdown.\n",
        "\n",
        "\n"
      ],
      "metadata": {
        "id": "Sv0l5-dgkzDe"
      }
    },
    {
      "cell_type": "markdown",
      "metadata": {
        "id": "6AB7wy0q0i9G"
      },
      "source": [
        "# Programas Básicos y Variables\n"
      ]
    },
    {
      "cell_type": "markdown",
      "metadata": {
        "id": "YSN3o-s_1NL9"
      },
      "source": [
        "## Output y Función `print()`\n",
        "\n",
        "El output de un programa es la manera de transmitir información hacia su entorno. En Google Colaboratory veremos el output del programa debajo de la celda donde fue ejecutado.\n",
        "\n",
        "Para mostrar un dato en la pantalla, podemos utilizar el comando **`print( )`**, poniendo el dato que deseemos entre los paréntesis. Notar que, para escribir texto, se debe indicar con comillas simples o dobles y para escribir números no se deben aplicar comillas.\n",
        "\n",
        "La estructura **`nombre(argumento1, argumento2, ...)`** corresponde a una **función** en Python. Una función es un bloque de código que se ejecuta sólo cuando es llamado. Se pueden pasar datos/instrucciones específicas, también llamados argumentos o parámetros, a una función y esta puede devolver otros datos.\n",
        "\n",
        "En el siguiente ejemplo, el comando **`print( )`** va a recibir como argumento, un número y una cadena de texto, o **string**, e imprimirá el texto en pantalla."
      ]
    },
    {
      "cell_type": "code",
      "metadata": {
        "id": "BZKuwhnM1fMF",
        "colab": {
          "base_uri": "https://localhost:8080/"
        },
        "outputId": "c87cb45a-1883-450d-8a38-a3ee0153151d"
      },
      "source": [
        "print(123)\n",
        "print(\"Hola, cómo estas?\")\n",
        "print('Buen día')\n",
        "print('hola a todos')\n",
        "print(12345)\n",
        "print('IDEs')"
      ],
      "execution_count": null,
      "outputs": [
        {
          "output_type": "stream",
          "name": "stdout",
          "text": [
            "123\n",
            "Hola, cómo estas?\n",
            "Buen día\n",
            "hola a todos\n",
            "12345\n",
            "IDEs\n"
          ]
        }
      ]
    },
    {
      "cell_type": "markdown",
      "metadata": {
        "id": "xSmYrSMo3JWW"
      },
      "source": [
        "## ¿Qué es una Variable?\n",
        "\n",
        "En programación, se le asigna un nombre o \"apodo\" a cada pequeño segmento de la memoria que almacena un dato o un valor.\n",
        "Una variable es un espacio reservado en memoria al que le ponemos un \"apodo\", en el que se puede almacenar algo (un elemento o dato) y que permite recuperar/transformar/modificar lo almacenado si lo volvemos a declarar una vez guardado previamente, invocándolo por su \"apodo\".\n",
        "\n",
        "\n",
        "Para que un programa funcione y pueda realizar tareas es necesario guardar en la memoria de la computadora los datos que necesita. De esta forma, cada vez que se usa este nombre en el programa se está refiriendo al valor del dato almacenado en la memoria. Este es el concepto de \"variable\".\n",
        "\n",
        "En python esto se logra de la siguiente manera:\n"
      ]
    },
    {
      "cell_type": "code",
      "source": [
        "x = 5555.5\n",
        "print(x)"
      ],
      "metadata": {
        "colab": {
          "base_uri": "https://localhost:8080/"
        },
        "id": "EMPaQ9tc_yR0",
        "outputId": "cf7118a3-dc7b-4676-8c8d-5212af8928ee"
      },
      "execution_count": null,
      "outputs": [
        {
          "output_type": "stream",
          "name": "stdout",
          "text": [
            "5555.5\n"
          ]
        }
      ]
    },
    {
      "cell_type": "code",
      "metadata": {
        "id": "mFOx8nO71nL-",
        "colab": {
          "base_uri": "https://localhost:8080/"
        },
        "outputId": "e6669897-d86c-4b82-9cda-f11a47a535a7"
      },
      "source": [
        "x = 5555555.5\n",
        "x = 7\n",
        "y = 6\n",
        "x= \"Hola\"\n",
        "print(x,y)"
      ],
      "execution_count": null,
      "outputs": [
        {
          "output_type": "stream",
          "name": "stdout",
          "text": [
            "Hola 6\n"
          ]
        }
      ]
    },
    {
      "cell_type": "markdown",
      "metadata": {
        "id": "NSJEwTaD1puN"
      },
      "source": [
        "En estas variables podemos guardar lo que sea necesario para ejecutar el programa. Por ejemplo, si necesitamos guardar texto se indica con: \"(texto)\" o '(texto)'.\n",
        "\n",
        "Notar que para asignar una variable el símbolo que utilizamos fue el **`=`**. A este operador lo llamamos **operador de asignación**."
      ]
    },
    {
      "cell_type": "code",
      "metadata": {
        "id": "n0hO9z801r82",
        "colab": {
          "base_uri": "https://localhost:8080/"
        },
        "outputId": "3ac0fba0-d697-46d5-fbe8-e2e8b6c633c0"
      },
      "source": [
        "x = 'Hola Mundo!'\n",
        "y = \"Adios Mundo!\"\n",
        "z = 123\n",
        "x = z\n",
        "\n",
        "print(x)\n",
        "print(y)\n",
        "print(z)"
      ],
      "execution_count": null,
      "outputs": [
        {
          "output_type": "stream",
          "name": "stdout",
          "text": [
            "123\n",
            "Adios Mundo!\n",
            "123\n"
          ]
        }
      ]
    },
    {
      "cell_type": "markdown",
      "metadata": {
        "id": "rJ-2Ua3b-RIj"
      },
      "source": [
        "Entonces, cuando al comando **`print()`** lo \"alimentamos\" con la variable **`x`**, lo que hace el programa es mostrarnos el contenido de esa variable (es decir, el dato que está almacenado en ese espacio en memoria) y no la letra \"x\".\n",
        "¿Cómo podría hacer un programa que imprima la letra \"x\"?"
      ]
    },
    {
      "cell_type": "code",
      "source": [
        "# poner lo que quiero\n",
        "#print('hola mundo')\n",
        "variable_x = 'x'\n",
        "print(variable_x, 'x')"
      ],
      "metadata": {
        "id": "EiwqJ3e8jUic",
        "colab": {
          "base_uri": "https://localhost:8080/"
        },
        "outputId": "69d5b2a1-e05c-4950-85e0-2e273081debe"
      },
      "execution_count": null,
      "outputs": [
        {
          "output_type": "stream",
          "name": "stdout",
          "text": [
            "x x\n"
          ]
        }
      ]
    },
    {
      "cell_type": "code",
      "metadata": {
        "id": "pZVQnFVR-8sC",
        "colab": {
          "base_uri": "https://localhost:8080/"
        },
        "outputId": "fe6a0aa7-2992-4778-c26a-b7599356d6f7"
      },
      "source": [
        "# Esto es un comentario!\n",
        "# Los comentarios no son ejecutados por Python\n",
        "\n",
        "x = 150 #Acá podes modificar el valor 150 y ponerle el que quieras\n",
        "\n",
        "x = 'x'\n",
        "\n",
        "X = 150\n",
        "\n",
        "''' También se puede comentar usando 3 comillas (simples o dobles)\n",
        "para abrir un comentario, cerrandolo de la misma manera. '''\n",
        "\n",
        "\"\"\"Esto no es 100% correcto, ya que el propósito de la triple\n",
        "comilla no es comentar el código. Sin embargo, es bastante usado\n",
        "por programadores y usuarios de Python\"\"\"\n",
        "\n",
        "print(x)\n",
        "print(X)"
      ],
      "execution_count": null,
      "outputs": [
        {
          "output_type": "stream",
          "name": "stdout",
          "text": [
            "x\n",
            "150\n"
          ]
        }
      ]
    },
    {
      "cell_type": "markdown",
      "metadata": {
        "id": "NWySnvJu1ti1"
      },
      "source": [
        "Algo importante a tener en cuenta es que no es necesario aclarar de antemano si las variables son textos (Strings) o números, sino que el lenguaje lo puede identificar automáticamente.\n",
        "\n",
        "Otra cuestión importante a considerar es que el \"apodo\" o nombre que recibirá una variable debe cumplir ciertas reglas o restricciones impuestas por el propio lenguaje. Estas reglas son:\n",
        "- El nombre de una variable no puede comenzar por un número (para que el lenguaje no lo confunda con un número, justamente). Debe empezar por una letra (a-z, A-Z) o un guión bajo (_).\n",
        "- Los restantes caracteres pueden ser alfanuméricos o _\n",
        "- Los caracteres en mayúscula son diferentes a los mismos caracteres en minúscula (case sensitive)\n",
        "- No se pueden utilizar palabras reservadas por Python como nombres de variables. Por ejemplo: **`print`**, **`if`**, **`else`**, **`for`**, entre otras. Esto es porque Python las usa para otros fines y ya tienen un significado especial."
      ]
    },
    {
      "cell_type": "code",
      "metadata": {
        "id": "mkCi3Bn0Aiee",
        "colab": {
          "base_uri": "https://localhost:8080/"
        },
        "outputId": "13997d0a-643a-48f4-db35-dce7960245d5"
      },
      "source": [
        "help('keywords') #lista de palabras reservadas"
      ],
      "execution_count": null,
      "outputs": [
        {
          "output_type": "stream",
          "name": "stdout",
          "text": [
            "\n",
            "Here is a list of the Python keywords.  Enter any keyword to get more help.\n",
            "\n",
            "False               class               from                or\n",
            "None                continue            global              pass\n",
            "True                def                 if                  raise\n",
            "and                 del                 import              return\n",
            "as                  elif                in                  try\n",
            "assert              else                is                  while\n",
            "async               except              lambda              with\n",
            "await               finally             nonlocal            yield\n",
            "break               for                 not                 \n",
            "\n"
          ]
        }
      ]
    },
    {
      "cell_type": "markdown",
      "source": [
        "Es muy importante respetar estas palabras reservadas, si bien python mismo nos obliga a respetarlas:"
      ],
      "metadata": {
        "id": "IwC5KXJsmxzi"
      }
    },
    {
      "cell_type": "code",
      "source": [
        "as = 5"
      ],
      "metadata": {
        "id": "l8L7Y_sT-Rot",
        "colab": {
          "base_uri": "https://localhost:8080/",
          "height": 106
        },
        "outputId": "d569f128-187f-4874-e48d-511559100d24"
      },
      "execution_count": null,
      "outputs": [
        {
          "output_type": "error",
          "ename": "SyntaxError",
          "evalue": "invalid syntax (<ipython-input-18-74c98f66ff7f>, line 1)",
          "traceback": [
            "\u001b[0;36m  File \u001b[0;32m\"<ipython-input-18-74c98f66ff7f>\"\u001b[0;36m, line \u001b[0;32m1\u001b[0m\n\u001b[0;31m    as = 5\u001b[0m\n\u001b[0m    ^\u001b[0m\n\u001b[0;31mSyntaxError\u001b[0m\u001b[0;31m:\u001b[0m invalid syntax\n"
          ]
        }
      ]
    },
    {
      "cell_type": "markdown",
      "source": [
        "El error **SyntaxError: invalid syntax** nos dice que no estamos respetando la sintaxis del lenguaje."
      ],
      "metadata": {
        "id": "6_Xiv-0a-fZI"
      }
    },
    {
      "cell_type": "markdown",
      "metadata": {
        "id": "Icjqr3dn1vn0"
      },
      "source": [
        "## Inputs de un Programa\n",
        "El input de un programa es la forma de recibir información del entorno externo al programa (usuario). Esto puede ser un usuario, un archivo, otro programa, etc.\n",
        "\n",
        "Para solicitar el ingreso de una variable por parte del usuario podemos usar **`input(\"Texto a mostrar en interfaz: \")`**. Cuando corran este código, les aparecerá una pequeña casilla donde tendrán que escribir, y luego el programa continuará."
      ]
    },
    {
      "cell_type": "code",
      "metadata": {
        "id": "THDSQvb71y0O",
        "colab": {
          "base_uri": "https://localhost:8080/",
          "height": 263
        },
        "outputId": "8488dea7-7e63-492f-9a85-4a1d698e2616"
      },
      "source": [
        "nombre = input(\"Ingrese su nombre: \")\n",
        "edad = input(\"Ingrese su edad: \")\n",
        "\n",
        "print(\"La variable nombre es:\", nombre)\n",
        "print(\"La variable edad es:\", edad)\n",
        "print(type(edad))\n",
        "print( int(edad) * 2)\n"
      ],
      "execution_count": null,
      "outputs": [
        {
          "output_type": "stream",
          "name": "stdout",
          "text": [
            "Ingrese su nombre: 58\n",
            "Ingrese su edad: Pablo\n",
            "La variable nombre es: 58\n",
            "La variable edad es: Pablo\n",
            "<class 'str'>\n"
          ]
        },
        {
          "output_type": "error",
          "ename": "ValueError",
          "evalue": "invalid literal for int() with base 10: 'Pablo'",
          "traceback": [
            "\u001b[0;31m---------------------------------------------------------------------------\u001b[0m",
            "\u001b[0;31mValueError\u001b[0m                                Traceback (most recent call last)",
            "\u001b[0;32m<ipython-input-20-ce5084a3637f>\u001b[0m in \u001b[0;36m<cell line: 7>\u001b[0;34m()\u001b[0m\n\u001b[1;32m      5\u001b[0m \u001b[0mprint\u001b[0m\u001b[0;34m(\u001b[0m\u001b[0;34m\"La variable edad es:\"\u001b[0m\u001b[0;34m,\u001b[0m \u001b[0medad\u001b[0m\u001b[0;34m)\u001b[0m\u001b[0;34m\u001b[0m\u001b[0;34m\u001b[0m\u001b[0m\n\u001b[1;32m      6\u001b[0m \u001b[0mprint\u001b[0m\u001b[0;34m(\u001b[0m\u001b[0mtype\u001b[0m\u001b[0;34m(\u001b[0m\u001b[0medad\u001b[0m\u001b[0;34m)\u001b[0m\u001b[0;34m)\u001b[0m\u001b[0;34m\u001b[0m\u001b[0;34m\u001b[0m\u001b[0m\n\u001b[0;32m----> 7\u001b[0;31m \u001b[0mprint\u001b[0m\u001b[0;34m(\u001b[0m \u001b[0mint\u001b[0m\u001b[0;34m(\u001b[0m\u001b[0medad\u001b[0m\u001b[0;34m)\u001b[0m \u001b[0;34m*\u001b[0m \u001b[0;36m2\u001b[0m\u001b[0;34m)\u001b[0m\u001b[0;34m\u001b[0m\u001b[0;34m\u001b[0m\u001b[0m\n\u001b[0m",
            "\u001b[0;31mValueError\u001b[0m: invalid literal for int() with base 10: 'Pablo'"
          ]
        }
      ]
    },
    {
      "cell_type": "markdown",
      "metadata": {
        "id": "vcFTFQcD15On"
      },
      "source": [
        "Un detalle a tener en cuenta es que la información ingresada por el usuario al utilizar **`input()`** será interpretada siempre como texto, y no como un número. Por lo tanto, si queremos almacenar un número vamos a usar **`int()`** para convertir ese texto en el número correspondiente. Lo mismo si necesitamos cualquier otro tipo de variable."
      ]
    },
    {
      "cell_type": "markdown",
      "metadata": {
        "id": "PUnb4N8i17ut"
      },
      "source": [
        "# Operaciones Básicas con Variables\n"
      ]
    },
    {
      "cell_type": "markdown",
      "metadata": {
        "id": "nLIjci3h193F"
      },
      "source": [
        "### Operaciones de Modificación\n"
      ]
    },
    {
      "cell_type": "markdown",
      "metadata": {
        "id": "BCGsM4r72Gb2"
      },
      "source": [
        "Las operaciones básicas que pueden llevarse a cabo utilizando variables:\n",
        "\n",
        "- Sumar dos variables ( $a+b$ ):\n",
        "\n",
        "  `a + b`\n",
        "\n",
        "- Restar dos variables ( $a-b$ ):\n",
        "\n",
        "  `a − b`\n",
        "\n",
        "- Multiplicar dos variables ( $a\\cdot b$ ):\n",
        "\n",
        "  `a * b`\n",
        "\n",
        "- Dividir una variable por la otra ( $a\\div b$ ):\n",
        "\n",
        "  `a / b`\n",
        "\n",
        "- Una variable elevada a la otra ( $a^b$ ):\n",
        "\n",
        "  `a ** b`\n",
        "\n",
        "- Asignarle un valor a una variable ( $a\\leftarrow b$ ):\n",
        "\n",
        "  `a = b`\n",
        "  \n",
        "\n",
        "¿Cuál será la salida del siguiente programa?"
      ]
    },
    {
      "cell_type": "code",
      "metadata": {
        "id": "3IYJ3nrV2Hpt"
      },
      "source": [
        "x = 3 # Asignamos el número entero 3 (int) al nombre x\n",
        "y = -2 # Asignamos el número negativo -2 (int) al nombre y\n",
        "y = x*y  # y = 3 * (-2)  # Asignamos la múltiplicación de x por y al nombre y\n",
        "x = x**2 # Asignamos la potencia de x a la 2 al nombre x\n",
        "z = x/y # Asignamos la división de x por y al nombre z\n",
        "\n",
        "print(\"y =\", y)\n",
        "print(\"x =\", x)\n",
        "print(\"z =\", z)\n",
        "print(x, y, z)"
      ],
      "execution_count": null,
      "outputs": []
    },
    {
      "cell_type": "code",
      "source": [
        "print(\"El valor de x es\", x, \"El valor de y es\", y)"
      ],
      "metadata": {
        "id": "MWPv52zWodJq"
      },
      "execution_count": null,
      "outputs": []
    },
    {
      "cell_type": "markdown",
      "metadata": {
        "id": "TrMtUbrt2urw"
      },
      "source": [
        "#### 📚 **Ejercicio 1:** Operadores\n",
        "\n",
        "1. Diseñar un programa en el cual el usuario ingrese tres números, uno a la vez, y se muestre como salida tanto el promedio como la [media geométrica](https://es.wikipedia.org/wiki/Media_geom%C3%A9trica) de los tres números.\n",
        "\n",
        "2. Diseñar un programa en el cual el usuario ingrese, para dos productos diferentes, el precio unitario del producto y la cantidad que desea comprar del mismo, y se muestre como salida el total de la factura.\n",
        "\n",
        "**Aclaración**: recordemos que les llamamos programas a una serie de instrucciones que realizan una acción."
      ]
    },
    {
      "cell_type": "code",
      "metadata": {
        "id": "IT-iSniW2v6t"
      },
      "source": [
        "# Código Ejercicio 1 Apartado 1\n"
      ],
      "execution_count": null,
      "outputs": []
    },
    {
      "cell_type": "code",
      "metadata": {
        "id": "xS1O2J43qarx"
      },
      "source": [
        "# Código Ejercicio 1 Apartado 2\n"
      ],
      "execution_count": null,
      "outputs": []
    },
    {
      "cell_type": "code",
      "source": [
        "import this"
      ],
      "metadata": {
        "id": "B7t7vNA84yYr"
      },
      "execution_count": null,
      "outputs": []
    },
    {
      "cell_type": "markdown",
      "metadata": {
        "id": "AuCHBB6d23gk"
      },
      "source": [
        "### Operadores Módulo y Cociente Entero\n"
      ]
    },
    {
      "cell_type": "markdown",
      "metadata": {
        "id": "cDafAOFB2_7w"
      },
      "source": [
        "El **operador módulo** permite calcular el resto en una división de un número por otro. Para aplicarlo se utiliza el símbolo **`%`**. Por ejemplo:\n",
        "\n",
        "*   $5$ % $3$ $= 2$\n",
        "*   $17$ % $10$ $= 7$\n",
        "*   $9$ % $6$ $= 3$\n",
        "*   $15$ % $5$ $= 0$\n",
        "\n",
        "Una aplicación de utilidad consiste en preguntar si el resto de un número **x** en la división por **y** es igual a 0 y, de esta forma, saber si **x** es múltiplo de **y**:"
      ]
    },
    {
      "cell_type": "code",
      "metadata": {
        "id": "IFyZa-ie3B9d"
      },
      "source": [
        "x = 27\n",
        "y = 5\n",
        "\n",
        "print(\"Resultado:\", x % y )"
      ],
      "execution_count": null,
      "outputs": []
    },
    {
      "cell_type": "code",
      "metadata": {
        "id": "OzJlQct53plk"
      },
      "source": [
        "x = int( input(\"Ingrese un número:\") )\n",
        "\n",
        "print(\"Es el número par?\", x%2 == 0 )\n",
        "print(\"Es el número múltiplo de 3?\", x%3 == 0 )\n",
        "print(\"Es el número múltiplo de 5?\", x%5 == 0 )\n",
        "print(\"Es el número múltiplo de 7?\", x%7 == 0 )"
      ],
      "execution_count": null,
      "outputs": []
    },
    {
      "cell_type": "markdown",
      "metadata": {
        "id": "WtdZC-PQnhAM"
      },
      "source": [
        "Por otro lado, el operador **`//`** permite obtener el cociente en la división entera. Es decir, la [parte entera](https://es.wikipedia.org/wiki/Funciones_de_parte_entera) del resultado de la división."
      ]
    },
    {
      "cell_type": "code",
      "metadata": {
        "id": "XwDm-VGSngtD"
      },
      "source": [
        "x = 1\n",
        "y = 3\n",
        "\n",
        "print(\"Resultado:\", x // y )"
      ],
      "execution_count": null,
      "outputs": []
    },
    {
      "cell_type": "markdown",
      "metadata": {
        "id": "sHDZxJOaEe9C"
      },
      "source": [
        "#### 📚 **Ejercicio 2:** Módulo y Cociente Entero\n",
        "\n",
        "1. Diseñar un programa en el cual el usuario ingrese un número, y se muestre como salida un texto que indique si el número es par o impar.\n",
        "\n",
        "2. Una línea de producción tiene la capacidad de hacer 12 cuadernos por minuto. Sin embargo, la capacidad logística diaria permite manipular solo hasta 10000 cuadernos por día. Elaborar un programa que ayude a determinar a qué hora debería frenarse la línea de producción para evitar problemas logísticos, dado que el usuario ingresa la hora a la que comienza a producir la línea (0-24 hs)."
      ]
    },
    {
      "cell_type": "code",
      "metadata": {
        "id": "82dqcMvjH71W"
      },
      "source": [
        "# Código Ejercicio 2 Apartado 1\n"
      ],
      "execution_count": null,
      "outputs": []
    },
    {
      "cell_type": "code",
      "metadata": {
        "id": "AhdEzkjKoiWK"
      },
      "source": [
        "# Código Ejercicio 2 Apartado 2\n",
        "\n",
        "hora_de_entrada = int(input('Ingrese la hora de entrada:'))\n",
        "minuto_de_entrada = int(input('Ingrese los minutos de entrada:'))\n",
        "\n",
        "minutos_de_produccion = 10000//12\n",
        "horas_de_produccion = minutos_de_produccion//60\n",
        "resto_en_minutos = minutos_de_produccion%60\n",
        "cuadernos_faltantes = 10000%12\n",
        "print('cuadernos_faltantes:', cuadernos_faltantes)\n",
        "hora_de_salida = hora_de_entrada + horas_de_produccion + (minuto_de_entrada+resto_en_minutos)//60\n",
        "minuto_de_salida = (minuto_de_entrada+resto_en_minutos)%60\n",
        "if hora_de_salida > 24:\n",
        "  horas_de_produccion = horas_de_produccion - (hora_de_salida-24)\n",
        "  hora_de_salida = 24\n",
        "  resto_en_minutos = resto_en_minutos - minuto_de_salida\n",
        "  minuto_de_salida = 0\n",
        "print('horas de producción: ', horas_de_produccion,'minutos de producción: ',resto_en_minutos)\n",
        "print('hora de salida: ', hora_de_salida, 'minuto de salida: ', minuto_de_salida)"
      ],
      "execution_count": null,
      "outputs": []
    },
    {
      "cell_type": "markdown",
      "metadata": {
        "id": "oL48nCbz3Qnt"
      },
      "source": [
        "### Operaciones de Comparación\n"
      ]
    },
    {
      "cell_type": "markdown",
      "metadata": {
        "id": "6LrP-ea23Zks"
      },
      "source": [
        "Existen operaciones que permiten comparar propiedades de las variables. Las principales formas de comparación son:\n",
        "\n",
        "*   Menor que ( $a < b$ ):\n",
        "\n",
        " `a < b`\n",
        "\n",
        "*   Mayor que ( $a > b$ ):\n",
        "\n",
        " `a > b`\n",
        "\n",
        "*   Menor o igual que ( $a \\leq b$ ):\n",
        "\n",
        " `a <= b`\n",
        "\n",
        "*   Mayor o igual que ( $a \\geq b$ ):\n",
        "\n",
        " `a >= b`\n",
        "\n",
        "*   Es igual ( $a = b$ ):\n",
        "\n",
        " `a == b` (Ojo: se utilizan 2 símbolos `=` para diferenciarse del operador asignación)\n",
        "\n",
        "*   Es distinto ( $a \\neq b$ ):\n",
        "\n",
        " `a != b`\n",
        "\n",
        "\n",
        "Al comprarar dos números, se obtiene **`True`** o **`False`** (Verdadero o Falso también llamados booleanos) según si se cumple o no la condición establecida:"
      ]
    },
    {
      "cell_type": "code",
      "metadata": {
        "id": "DLNd0IkK3fUF"
      },
      "source": [
        "x = 4\n",
        "print(\"Es x mayor o igual a 4?\", x >= 4)\n",
        "print(\"Es x menor a 3?\", x < 3)"
      ],
      "execution_count": null,
      "outputs": []
    },
    {
      "cell_type": "markdown",
      "metadata": {
        "id": "_NhDBRGW4Du4"
      },
      "source": [
        "También se pueden combinar diversas condiciones:\n",
        "\n",
        "*  Si se cumplen las dos condiciones ( $a \\land b$ ):\n",
        "\n",
        "  `a and b`\n",
        "\n",
        "*  Si se cumple alguna de las condiciones ( $ a \\lor b$ ):\n",
        "\n",
        "  `a or b`\n",
        "\n",
        "*  Si no se cumple esa condición ( $ \\overline{a} $ ):\n",
        "\n",
        "  `not a`\n",
        "\n",
        "La lógica símbolica será nuestra aliada a la hora de programar. No es necesario estudiarla formalmente pero si es necesario entender como funcionan una serie de instrucciones lógicas en Python para conseguir programar de manera eficaz.\n",
        "\n",
        "\n",
        "Veamos un ejemplo:"
      ]
    },
    {
      "cell_type": "code",
      "metadata": {
        "id": "yXLcUyqR4Fwd"
      },
      "source": [
        "x = int(input(\"Ingrese un numero:\"))\n",
        "\n",
        "y = x > 5 and x < 7\n",
        "z = x > 5 or x < 7\n",
        "k = not x > 5\n",
        "\n",
        "print(\"x > 5 y x < 7?\", y)\n",
        "print(\"x > 5 o x < 7?\", z)\n",
        "print(\"Es x NO mayor a 5?\", k)"
      ],
      "execution_count": null,
      "outputs": []
    },
    {
      "cell_type": "markdown",
      "metadata": {
        "id": "0XA2fgcf4j5c"
      },
      "source": [
        "Estas condiciones pueden agruparse a su vez con (*condicion1*) **and/or** (*condicion2*), lo cual permite chequar condiciones más complejas:"
      ]
    },
    {
      "cell_type": "code",
      "metadata": {
        "id": "CD3MFAO74o-r"
      },
      "source": [
        "x = int(input(\"Ingrese el primer número:\"))\n",
        "y = int(input(\"Ingrese el segundo número:\"))\n",
        "\n",
        "z = ( x> 15 or x <-15) and ( y > 15 or y < -15 )\n",
        "\n",
        "print(\"El valor absoluto de ambos números es mayor a 15?\", z)"
      ],
      "execution_count": null,
      "outputs": []
    },
    {
      "cell_type": "markdown",
      "metadata": {
        "id": "n56xx_1Z4pMT"
      },
      "source": [
        "¿Cuáles creen que serán los resultados de ejecutar las siguientes operaciones lógicas?\n",
        "\n",
        "- True and True\n",
        "- True and False\n",
        "- False and True\n",
        "- False and False\n",
        "\n",
        "\n",
        "- True or True\n",
        "- True or False\n",
        "- False or True\n",
        "- False or False\n",
        "\n",
        "\n",
        "- not True\n",
        "- not False"
      ]
    },
    {
      "cell_type": "markdown",
      "metadata": {
        "id": "bwrd7_6gsKxh"
      },
      "source": [
        "#### 📚 **Ejercicio 3:** Comparaciones\n",
        "\n",
        "1. Diseñar un programa en el cual el usuario ingrese dos veces un número, y se muestre como salida un texto que indique si el primer número es mayor, igual o menor al segundo número ingresado.\n",
        "\n",
        "2. El horario de atención de un local comercial es de 10 a 13 y de 16 a 20 horas. Elaborar un programa que reciba como input la hora a la que arriba un cliente y que devuelva como salida si el local se encuentra abierto o cerrado."
      ]
    },
    {
      "cell_type": "code",
      "metadata": {
        "id": "bXeBx3vS-dvo"
      },
      "source": [
        "# Código Ejercicio 3 Apartado 1\n"
      ],
      "execution_count": null,
      "outputs": []
    },
    {
      "cell_type": "code",
      "metadata": {
        "id": "JaOfPW7NuCtT"
      },
      "source": [
        "# Código Ejercicio 3 Apartado 2\n"
      ],
      "execution_count": null,
      "outputs": []
    },
    {
      "cell_type": "markdown",
      "metadata": {
        "id": "ZQdp0tOKuRbx"
      },
      "source": [
        "## Orden de Evaluación y Precedencia de Operadores Aritméticos y Lógicos\n",
        "\n"
      ]
    },
    {
      "cell_type": "markdown",
      "metadata": {
        "id": "k6HlKS8mvFE4"
      },
      "source": [
        "Python evalúa expresiones de izquierda a derecha y separa por términos como nosotros, excepto que usemos paréntesis.\n",
        "\n",
        "¿Cómo será la separación en términos para operaciones lógicas?\n",
        "\n",
        "<p align=\"center\">\n",
        "<img\n",
        "     src=\"https://lh5.googleusercontent.com/-RV4ZNzB5qvU/TeSJEIHEeSI/AAAAAAAAAJ0/-JVpFJBnxHs/CU00133A_1.png\"\n",
        "     alt=\"pypl\"\n",
        "     width=40%\n",
        "     height=40%>\n",
        "</p>"
      ]
    },
    {
      "cell_type": "markdown",
      "metadata": {
        "id": "fgRXjvRJm_bo"
      },
      "source": [
        "\n",
        "Algunos ejemplos que sirven para ilustrar este punto son los siguientes:"
      ]
    },
    {
      "cell_type": "code",
      "metadata": {
        "id": "GRZNSQ6fbecz"
      },
      "source": [
        "print(1 / (2 + 3))\n",
        "print(1 / 2 + 3)"
      ],
      "execution_count": null,
      "outputs": []
    },
    {
      "cell_type": "code",
      "metadata": {
        "id": "3fneAibtbeS1"
      },
      "source": [
        "print(1 / 2 * 3)\n",
        "print(1 / (2 * 3))"
      ],
      "execution_count": null,
      "outputs": []
    },
    {
      "cell_type": "code",
      "metadata": {
        "id": "mP3uwBxobeK1"
      },
      "source": [
        "print(1 ** 2 * 3)\n",
        "print(1 * 2 ** 3)"
      ],
      "execution_count": null,
      "outputs": []
    },
    {
      "cell_type": "code",
      "metadata": {
        "id": "roFAaLJ9uRIm"
      },
      "source": [
        "print(True or False and False)\n",
        "print((True or False) and False)"
      ],
      "execution_count": null,
      "outputs": []
    },
    {
      "cell_type": "markdown",
      "source": [
        "\n",
        "# Paréntesis: *f-strings*\n",
        "\n",
        "Como habrán notado, existen formas de \"*incrustar*\" variables en texto de una manera muy amigable gracias a las *formatted strings literals* (más conocidas por su nombre artístico *f-strings*).\n",
        "\n",
        "Esto nos salva de concatenar strings y hace mucho más legible el texto que querramos crear. Por ejemplo, nos hacen muy sencillo presentar un número como un porcentaje.\n"
      ],
      "metadata": {
        "id": "f_S4FQ6Wi7hz"
      }
    },
    {
      "cell_type": "code",
      "source": [
        "x = 2\n",
        "y = 4\n",
        "print(\"El valor de x es\", x)\n",
        "\n",
        "print(f\"El valor de x es {x} y el valor de y es {y}\")"
      ],
      "metadata": {
        "id": "4PVZj92Y7uqI"
      },
      "execution_count": null,
      "outputs": []
    },
    {
      "cell_type": "code",
      "source": [
        "x = 0.253246\n",
        "\n",
        "print(f\"En porcentaje es {x:%}\")\n",
        "print(f\"El porcentaje a dos decimales es {x:.2%}\")\n",
        "print(f\"En porcentaje a tres decimales es {x:.3%}\")"
      ],
      "metadata": {
        "id": "0OO5RUCFi4t8"
      },
      "execution_count": null,
      "outputs": []
    },
    {
      "cell_type": "markdown",
      "source": [
        "En [esta documentación](https://docs.python.org/3/library/string.html#formatstrings) encontrarán más información al respecto. Además, dentro del tutorial de python, pueden revisar [esta sección](https://docs.python.org/3/tutorial/inputoutput.html)."
      ],
      "metadata": {
        "id": "tWzJwV-xjELP"
      }
    },
    {
      "cell_type": "markdown",
      "metadata": {
        "id": "J2FkAJt9-h5D"
      },
      "source": [
        "# 🚨 Ejercicios Integradores"
      ]
    },
    {
      "cell_type": "markdown",
      "metadata": {
        "id": "GNGPP_3g-jtx"
      },
      "source": [
        "## 1. Cálculo de Promedio\n",
        "Cálcular la nota de un alumno es una tarea cotidiana de un profesor. Esta tarea suele realizarse a mano o en excel muchas veces. En esta ocasión la haremos en python.\n",
        "- Pedir 3 veces que se ingrese una nota e imprimir en pantalla el promedio de las mismas.\n",
        "- Hacer lo mismo, pero asignar una importancia al primer examen de 20%, al segundo de 50% y al tercero de 30%.\n",
        "- Además, imprimir en pantalla `True` si la nota es mayor o igual que 4. Caso contrario, imprimir `False`."
      ]
    },
    {
      "cell_type": "code",
      "metadata": {
        "id": "joVjiSFksjjX"
      },
      "source": [
        "# Código Ejercicio Cálculo de Promedio\n"
      ],
      "execution_count": null,
      "outputs": []
    },
    {
      "cell_type": "markdown",
      "metadata": {
        "id": "-2Vkvl97DJQ1"
      },
      "source": [
        "## 2. Cálculo del [área de un círculo](https://es.wikipedia.org/wiki/C%C3%ADrculo)\n",
        "\n",
        "Escribir un programa que reciba el diámetro de un círculo e imprima en pantalla su área. Para ello, usar la constante `pi` provista por el módulo `math`.\n"
      ]
    },
    {
      "cell_type": "code",
      "metadata": {
        "id": "haar3E2TDWWr"
      },
      "source": [
        "from math import pi\n",
        "pi"
      ],
      "execution_count": null,
      "outputs": []
    },
    {
      "cell_type": "code",
      "metadata": {
        "id": "t768vuenDiFw"
      },
      "source": [
        "# Código Ejercicio Cálculo de Área\n"
      ],
      "execution_count": null,
      "outputs": []
    },
    {
      "cell_type": "code",
      "source": [],
      "metadata": {
        "id": "4-OVddopFG7S"
      },
      "execution_count": null,
      "outputs": []
    }
  ]
}