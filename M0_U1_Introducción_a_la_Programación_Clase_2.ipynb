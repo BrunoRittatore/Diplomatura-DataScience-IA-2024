{
  "nbformat": 4,
  "nbformat_minor": 0,
  "metadata": {
    "colab": {
      "provenance": [],
      "include_colab_link": true
    },
    "kernelspec": {
      "name": "python3",
      "display_name": "Python 3"
    }
  },
  "cells": [
    {
      "cell_type": "markdown",
      "metadata": {
        "id": "view-in-github",
        "colab_type": "text"
      },
      "source": [
        "<a href=\"https://colab.research.google.com/github/BrunoRittatore/Diplomatura-DataScience-IA-2024/blob/master/M0_U1_Introducci%C3%B3n_a_la_Programaci%C3%B3n_Clase_2.ipynb\" target=\"_parent\"><img src=\"https://colab.research.google.com/assets/colab-badge.svg\" alt=\"Open In Colab\"/></a>"
      ]
    },
    {
      "cell_type": "markdown",
      "metadata": {
        "id": "7cUqukj4_P_A"
      },
      "source": [
        "<p align=\"right\">\n",
        "<img\n",
        "     src=\"https://github.com/HX-PRomero/DiploDataScience/blob/main/_scr/assets/encabezado%20Diplomatura%20en%20Ciencia%20de%20Datos%20.png?raw=true\"\n",
        "     alt=\"pypl\"\n",
        "     width=60%\n",
        "     height=60%>\n",
        "</p>\n"
      ]
    },
    {
      "cell_type": "markdown",
      "metadata": {
        "id": "mgqhxY2yCx6i"
      },
      "source": [
        "# MÓDULO 0. Unidad 1 - Clase 2\n",
        "\n",
        "---\n",
        "\n",
        "> Tipos de datos: int, float, string, boolean.\n",
        "\n",
        "> Control de Flujos.\n",
        "\n",
        "> Funciones: cómo se definen y cómo se utilizan.\n",
        "\n",
        "\n"
      ]
    },
    {
      "cell_type": "markdown",
      "metadata": {
        "id": "O63cYKbC1ABf"
      },
      "source": [
        "# Tipos de Datos"
      ]
    },
    {
      "cell_type": "markdown",
      "metadata": {
        "id": "9wbTEd7pASze"
      },
      "source": [
        "Durante la clase anterior vimos que es posible almacenar, a través de una variable, distintos tipos de datos: utilizamos variables numéricas para realizar operaciones aritméticas y lógicas, almacenamos e imprimimos textos y vimos que el resultado de las operaciones lógicas eran los valores **`True`** o **`False`** (conocidos como *booleanos*).\n",
        "\n",
        "Todos estos son **distintos tipos de datos**, que tienen diferentes propiedades y nos servirán para diferentes propósitos al momento de escribir un programa. Una primera gran división que podemos hacer entre los tipos de datos es:\n",
        "\n",
        "- Datos de tipo numérico\n",
        "- Datos de tipo texto (o *string*)\n",
        "\n",
        "A continuación, veremos con más detalle con cuáles posibles tipos de datos nos podemos encontrar.\n",
        "\n",
        "**TIP:** Para conocer el tipo de dato de cualquier variable `x`, podemos usar la función **`type(x)`**."
      ]
    },
    {
      "cell_type": "markdown",
      "metadata": {
        "id": "8L6F_M5JtFnN"
      },
      "source": [
        "## Tipos de Datos Numéricos\n",
        "\n",
        "Existe una subclasificación para distintos tipos de números. Un entero no ocupará el mismo espacio en memoria que un número con varios dígitos en su parte decimal. Para diferenciar estos números, usaremos los tipos **`int`** y **`float`**.\n",
        "\n",
        "Adicionalmente, Python soporta números complejos, pero no están en el alcance de este curso."
      ]
    },
    {
      "cell_type": "markdown",
      "metadata": {
        "id": "-Lr8w9PGtYoG"
      },
      "source": [
        "### Tipo de Dato **`int`**\n",
        "Este tipo es el tipo de dato más básico, en donde pueden almacenarse números enteros (ya sean positivos o negativos)."
      ]
    },
    {
      "cell_type": "code",
      "metadata": {
        "id": "PSUbMfmatdKX",
        "colab": {
          "base_uri": "https://localhost:8080/"
        },
        "outputId": "36761d78-2579-46c9-eed6-f78de214a0bf"
      },
      "source": [
        "dias = 5\n",
        "print('dias =', dias)\n",
        "print(type(dias))"
      ],
      "execution_count": null,
      "outputs": [
        {
          "output_type": "stream",
          "name": "stdout",
          "text": [
            "dias = 5\n",
            "<class 'int'>\n"
          ]
        }
      ]
    },
    {
      "cell_type": "markdown",
      "metadata": {
        "id": "CAWY7u0Btdkt"
      },
      "source": [
        "A veces, operando con datos enteros podemos obtener números fraccionarios o racionales, por ejemplo:"
      ]
    },
    {
      "cell_type": "code",
      "metadata": {
        "id": "GHS0R23Htf3Z",
        "colab": {
          "base_uri": "https://localhost:8080/"
        },
        "outputId": "db9b0608-94aa-4906-ca76-5f1a73e551e1"
      },
      "source": [
        "x = input(\"Ingrese dividendo:\")\n",
        "y = input(\"Ingrese divisor:\")\n",
        "\n",
        "print()\n",
        "print('Tipos del Input:')\n",
        "print('x:', type(x))\n",
        "print('y:', type(y))\n",
        "\n",
        "x = int(x)\n",
        "y = int(y)\n",
        "\n",
        "print()\n",
        "print('Tipos del Input Casteado:')\n",
        "print('x:', type(x))\n",
        "print('y:', type(y))\n",
        "\n",
        "cociente = x/y\n",
        "\n",
        "print()\n",
        "print(\"Resultado:\", cociente)\n",
        "print(\"Tipo del Resultado:\", type(cociente))"
      ],
      "execution_count": null,
      "outputs": [
        {
          "output_type": "stream",
          "name": "stdout",
          "text": [
            "Ingrese dividendo:18\n",
            "Ingrese divisor:3\n",
            "\n",
            "Tipos del Input:\n",
            "x: <class 'str'>\n",
            "y: <class 'str'>\n",
            "\n",
            "Tipos del Input Casteado:\n",
            "x: <class 'int'>\n",
            "y: <class 'int'>\n",
            "\n",
            "Resultado: 6.0\n",
            "Tipo del Resultado: <class 'float'>\n"
          ]
        }
      ]
    },
    {
      "cell_type": "markdown",
      "metadata": {
        "id": "uuleyjPNtii1"
      },
      "source": [
        "En este caso, si nos interesa obtener únicamente la parte entera de la división, podemos usar el operador **división entera: //**, con lo cual se va a mantener el tipo **`int`** del resultado:"
      ]
    },
    {
      "cell_type": "code",
      "metadata": {
        "id": "fvduu-NLtjv9",
        "colab": {
          "base_uri": "https://localhost:8080/"
        },
        "outputId": "d849d64a-7b94-4a15-85d3-52785841ddfd"
      },
      "source": [
        "x = int(input(\"Ingrese dividendo:\"))\n",
        "y = int(input(\"Ingrese divisor:\"))\n",
        "\n",
        "print()\n",
        "print('Tipos del Input Casteado:')\n",
        "print('x:', type(x))\n",
        "print('y:', type(y))\n",
        "\n",
        "cociente_entero = x//y\n",
        "\n",
        "print()\n",
        "print(\"Resultado División Entera:\", cociente_entero)\n",
        "print(\"Tipo del Resultado División Entera:\", type(cociente_entero))"
      ],
      "execution_count": null,
      "outputs": [
        {
          "output_type": "stream",
          "name": "stdout",
          "text": [
            "Ingrese dividendo:17\n",
            "Ingrese divisor:3\n",
            "\n",
            "Tipos del Input Casteado:\n",
            "x: <class 'int'>\n",
            "y: <class 'int'>\n",
            "\n",
            "Resultado División Entera: 5\n",
            "Tipo del Resultado División Entera: <class 'int'>\n"
          ]
        }
      ]
    },
    {
      "cell_type": "markdown",
      "metadata": {
        "id": "Kbs2um--t5BO"
      },
      "source": [
        "Por otro lado, si queremos saber el resto de la división entera, usaremos el operador **módulo %** que fue explicado previamente, y también mantendrá el tipo **`int`** del resultado:"
      ]
    },
    {
      "cell_type": "code",
      "metadata": {
        "id": "9rb7KRh5uKbu",
        "colab": {
          "base_uri": "https://localhost:8080/"
        },
        "outputId": "d985b08d-5a67-4903-db36-970890aab6bf"
      },
      "source": [
        "x = int(input(\"Ingrese dividendo:\"))\n",
        "y = int(input(\"Ingrese divisor:\"))\n",
        "\n",
        "cociente_entero = x // y\n",
        "resto = x % y\n",
        "\n",
        "print(\"Resultado División Entera =\", cociente_entero)  # Redondea division al entero menor\n",
        "print(\"Tipo Resultado División Entera =\", type(cociente_entero))\n",
        "print(\"Resto =\", resto)  # Operación Módulo\n",
        "print(\"Tipo Resto =\", type(resto))\n",
        "print()\n",
        "print('Podemos afirmar que:')\n",
        "print(x // y, \"*\", y, \"+\", x%y,\"=\", x)"
      ],
      "execution_count": null,
      "outputs": [
        {
          "output_type": "stream",
          "name": "stdout",
          "text": [
            "Ingrese dividendo:17\n",
            "Ingrese divisor:3\n",
            "Resultado División Entera = 5\n",
            "Tipo Resultado División Entera = <class 'int'>\n",
            "Resto = 2\n",
            "Tipo Resto = <class 'int'>\n",
            "\n",
            "Podemos afirmar que:\n",
            "5 * 3 + 2 = 17\n"
          ]
        }
      ]
    },
    {
      "cell_type": "markdown",
      "source": [
        "Cabe aclarar que tanto la divisón entera como el módulo devuelven **`int`**  solamente si ambos números son enteros. Si las entradas del **`input`** son de tipo **`float`**, que veremos a continuación, se devuelve un número que puede contener decimales (**`float`**).\n"
      ],
      "metadata": {
        "id": "SH1VVGHgPLSK"
      }
    },
    {
      "cell_type": "markdown",
      "metadata": {
        "id": "h2T32iBduZ7c"
      },
      "source": [
        "### Tipo de Dato **`float`**\n",
        "Este tipo de dato es utilizado para almacenar números que pueden contener decimales."
      ]
    },
    {
      "cell_type": "code",
      "metadata": {
        "id": "xgv0kSbOuhaF",
        "colab": {
          "base_uri": "https://localhost:8080/"
        },
        "outputId": "2bda849e-75c8-452e-8189-1885b562e0a8"
      },
      "source": [
        "pi = 3.14\n",
        "x = 3.    # Alcanza para indicar que es un numero real con el \".\"\n",
        "z = 3     # Este será un número entero\n",
        "\n",
        "print(\"pi =\", pi)\n",
        "print(\"Tipo de pi =\", type(pi))\n",
        "print(\"x =\", x)\n",
        "print(\"Tipo de x =\", type(x))\n",
        "print(\"z =\", z)\n",
        "print(\"Tipo de z =\", type(z))"
      ],
      "execution_count": null,
      "outputs": [
        {
          "output_type": "stream",
          "name": "stdout",
          "text": [
            "pi = 3.14\n",
            "Tipo de pi = <class 'float'>\n",
            "x = 3.0\n",
            "Tipo de x = <class 'float'>\n",
            "z = 3\n",
            "Tipo de z = <class 'int'>\n"
          ]
        }
      ]
    },
    {
      "cell_type": "markdown",
      "metadata": {
        "id": "i79Mn2y1uoGe"
      },
      "source": [
        "Si queremos conseguir el entero sin la parte decimal de un **`float`**, podemos simplemente **convertirlo a `int`**.\n",
        "La acción de convertir una variable de un tipo a otro diferente es conocida como **casteo**.\n",
        "\n",
        "Para ello utilizamos la función propia de Python **`int()`**."
      ]
    },
    {
      "cell_type": "code",
      "metadata": {
        "id": "a8oZwJ5Hup0u",
        "colab": {
          "base_uri": "https://localhost:8080/"
        },
        "outputId": "628f405b-632f-42a0-ef12-08ad6c551031"
      },
      "source": [
        "z = \"3.14\"\n",
        "y = float(z) # 3.14\n",
        "x = int(y)\n",
        "\n",
        "print(\"x =\", x)\n",
        "print(\"Tipo de x =\", type(x))"
      ],
      "execution_count": null,
      "outputs": [
        {
          "output_type": "stream",
          "name": "stdout",
          "text": [
            "x = 3\n",
            "Tipo de x = <class 'int'>\n"
          ]
        }
      ]
    },
    {
      "cell_type": "markdown",
      "metadata": {
        "id": "07AfU39huz44"
      },
      "source": [
        "Para que Python interprete que el usuario ha ingresado un número real (de tipo **`float`**) usando la instrucción **`input()`**, debemos realizar un *casteo* con la función **`float()`**"
      ]
    },
    {
      "cell_type": "code",
      "metadata": {
        "id": "vyNuj9ZWu0aG",
        "colab": {
          "base_uri": "https://localhost:8080/"
        },
        "outputId": "e465445e-8e97-4ddb-d43e-d4d9034f1d7b"
      },
      "source": [
        "real = float( input(\"Ingrese un número: \") )\n",
        "\n",
        "print(\"Tipo del input casteado =\", type(real))\n",
        "print(\"El doble del numero ingresado es =\", real*2)"
      ],
      "execution_count": null,
      "outputs": [
        {
          "output_type": "stream",
          "name": "stdout",
          "text": [
            "Ingrese un número: 3\n",
            "Tipo del input casteado = <class 'float'>\n",
            "El doble del numero ingresado es = 6.0\n"
          ]
        }
      ]
    },
    {
      "cell_type": "markdown",
      "metadata": {
        "id": "XYtNZ0FBu9o1"
      },
      "source": [
        "Es importante tener en cuenta que **los *float* no pueden ser infinitamente precisos**, ya que para eso necesitaríamos infinita memoria (recordar que cada variable que usamos se guarda en memoria). De hecho, Python ni siquiera puede expresar de manera exacta 0.1, pero sí 0.5. Para leer más al respecto, podemos visitar el siguiente [link](https://es.wikipedia.org/wiki/Formato_en_coma_flotante_de_doble_precisi%C3%B3n).\n",
        "\n",
        "Como consecuencia, los números con decimales suelen tener una pequeña diferencia con el valor que realmente deseamos y, por esto, cuando trabajamos con *floats*, suele ser recomendable realizar comparaciones del tipo mayor o menor,**`>`** ó **`<`**, en lugar de igualdad ,**`==`**, o distinto de, **`!=`**, dado que pueden surgir problemas o resultados no esperados.\n",
        "\n",
        "¿Cuál es el problema de estos programas?"
      ]
    },
    {
      "cell_type": "code",
      "metadata": {
        "id": "sd2hTplhvhqX",
        "colab": {
          "base_uri": "https://localhost:8080/"
        },
        "outputId": "b2a38b71-30dd-4859-b358-f495a10fe356"
      },
      "source": [
        "a = 1/3\n",
        "b = 2/3\n",
        "c = a + b\n",
        "\n",
        "print('a =', a)\n",
        "print('b =', b)\n",
        "print('c =', c)\n",
        "print('Resultado operación inversa (c-b) =', c-b)\n",
        "print('a y (c-b) son iguales?', c-b == a)"
      ],
      "execution_count": null,
      "outputs": [
        {
          "output_type": "stream",
          "name": "stdout",
          "text": [
            "a = 0.3333333333333333\n",
            "b = 0.6666666666666666\n",
            "c = 1.0\n",
            "Resultado operación inversa (c-b) = 0.33333333333333337\n",
            "a y (c-b) son iguales? False\n"
          ]
        }
      ]
    },
    {
      "cell_type": "markdown",
      "metadata": {
        "id": "KXxfIAo19YyH"
      },
      "source": [
        "El uso de **floats** para realizar operaciones tiene varias diferencias respecto a las operaciones habituales que conocemos. Por ejemplo, una de ellas es que la suma de floats no es conmutativa. Es decir, el orden de las operaciones se vuelve importante.\n",
        "\n",
        "En el siguiente ejemplo se intenta calcular la suma $10^{16}+1+1+1+1+1+1+1+1+1+1$. El resultado debería ser $10^{16} + 10$, sin embargo el resultado cambia dependiendo del orden en el que se sumen los términos."
      ]
    },
    {
      "cell_type": "code",
      "source": [
        "x = 10.**16\n",
        "\n",
        "# inicializo ambas sumas en 0\n",
        "suma1 = 0\n",
        "suma2 = 0\n",
        "\n",
        "# sumo de mayor a menor\n",
        "suma1 = suma1 + x\n",
        "for i in range(10):\n",
        "  suma1 = suma1 +1\n",
        "\n",
        "# sumo de menor a mayor\n",
        "\n",
        "for i in range(10):\n",
        "  suma2 = suma2 + 1\n",
        "suma2 = suma2 + x\n",
        "\n",
        "print(f'El resultado de sumar de mayor a menor es: {suma1:16.0f}')\n",
        "print(f'El resultado de sumar de menor a mayor es: {suma2:16.0f}')"
      ],
      "metadata": {
        "id": "3Un8gk5l-O8R",
        "colab": {
          "base_uri": "https://localhost:8080/"
        },
        "outputId": "ea694805-ad88-400b-b219-e15ffc327087"
      },
      "execution_count": null,
      "outputs": [
        {
          "output_type": "stream",
          "name": "stdout",
          "text": [
            "El resultado de sumar de mayor a menor es: 10000000000000000\n",
            "El resultado de sumar de menor a mayor es: 10000000000000010\n"
          ]
        }
      ]
    },
    {
      "cell_type": "markdown",
      "metadata": {
        "id": "BNd1z6mJvwN7"
      },
      "source": [
        "Muchas veces es necesario redondear un número decimal, ya sea para obtener un número entero o un número con menor cantidad de decimales. Esto se puede lograr con el comando **round()**, el cual permite indicar la cantidad de decimales a redondear. Si no se indica la cantidad de decimales asume por defecto que el resultado será un número entero (**`int`**)."
      ]
    },
    {
      "cell_type": "code",
      "metadata": {
        "id": "4I5e1XNHvwyd",
        "colab": {
          "base_uri": "https://localhost:8080/"
        },
        "outputId": "5d2f35c3-737a-4bf3-a28a-f3353e091bd9"
      },
      "source": [
        "x = round(1234.56, 0)\n",
        "y = round(1234.56789, 2)\n",
        "z = int(8.9)\n",
        "\n",
        "print(x, y, z)\n",
        "print(type(x),type(y),type(z))"
      ],
      "execution_count": null,
      "outputs": [
        {
          "output_type": "stream",
          "name": "stdout",
          "text": [
            "1235.0 1234.57 8\n",
            "<class 'float'> <class 'float'> <class 'int'>\n"
          ]
        }
      ]
    },
    {
      "cell_type": "code",
      "source": [
        "help(round)"
      ],
      "metadata": {
        "colab": {
          "base_uri": "https://localhost:8080/"
        },
        "id": "-SBoF7NqjEVX",
        "outputId": "5d60b764-f7bc-4aee-828c-215ae8ff744c"
      },
      "execution_count": null,
      "outputs": [
        {
          "output_type": "stream",
          "name": "stdout",
          "text": [
            "Help on built-in function round in module builtins:\n",
            "\n",
            "round(number, ndigits=None)\n",
            "    Round a number to a given precision in decimal digits.\n",
            "    \n",
            "    The return value is an integer if ndigits is omitted or None.  Otherwise\n",
            "    the return value has the same type as the number.  ndigits may be negative.\n",
            "\n"
          ]
        }
      ]
    },
    {
      "cell_type": "markdown",
      "metadata": {
        "id": "2EUXbqH0ZtIl"
      },
      "source": [
        "#### 📚 **Ejercicio 1:** Floats\n",
        "\n",
        "1. Crear un programa que calcule el patrimonio neto en millones de USD (sin decimales) de una empresa con 16.789.965,76 USD de activo y 10.000.000 de pasivo. El usuario debe realizar el input del activo y del pasivo y el programa debe mostrar el patrimonio neto en millones de dólares (redondeado) como resultado. El patrimonio neto se define como Activo menos Pasivo, según la identidad contable PN + P = A\n",
        "\n",
        "2. Crear un programa para transformar minutos en horas. El usuario ingresa una cantidad de minutos y el programa, como resultado, muestra las horas que representan esa cantidad de minutos."
      ]
    },
    {
      "cell_type": "code",
      "source": [
        "# Código Ejercicio 1 Apartado 1\n"
      ],
      "metadata": {
        "id": "jFO5TNeEMC2I"
      },
      "execution_count": null,
      "outputs": []
    },
    {
      "cell_type": "code",
      "source": [
        "# Código Ejercicio 1 Apartado 2\n"
      ],
      "metadata": {
        "id": "FZK73BRZMCbc"
      },
      "execution_count": null,
      "outputs": []
    },
    {
      "cell_type": "markdown",
      "metadata": {
        "id": "8-0NMMRIwEuu"
      },
      "source": [
        "### Tipo de Dato **`boolean`**\n",
        "Este es un tipo de dato que puede tomar sólo dos valores distintos: **`True`** (Verdadero) o **`False`** (Falso)"
      ]
    },
    {
      "cell_type": "code",
      "metadata": {
        "id": "vkkoJe_kwMas"
      },
      "source": [
        "llueve = False\n",
        "soleado = True\n",
        "\n",
        "print(not llueve == soleado)"
      ],
      "execution_count": null,
      "outputs": []
    },
    {
      "cell_type": "markdown",
      "metadata": {
        "id": "bjdrCAPRwS4Y"
      },
      "source": [
        "Como lo habrán notado, ya veníamos usando este tipo de datos implícitamente: **las comparaciones devuelven booleanos**.\n",
        "\n",
        "Prácticamente cualquier dato puede *castearse* (convertirse) a **`boolean`**. Para los números, 0 es **`False`** y cualquier otro es **`True`**. Para otros tipos de datos, en general, son **`False`** si están \"vacíos\" y **`True`** en los demás casos.\n",
        "\n",
        "La función que se utiliza para *castear* a booleano es **`bool()`**.\n",
        "\n",
        "Además, los **`boolean`** pueden castearse a otros tipos de datos."
      ]
    },
    {
      "cell_type": "code",
      "metadata": {
        "id": "7lm9UtQ_-YX5",
        "colab": {
          "base_uri": "https://localhost:8080/"
        },
        "outputId": "a4835606-6131-4a45-9d04-db8389593abc"
      },
      "source": [
        "print(bool(4))\n",
        "print(bool(0.14))"
      ],
      "execution_count": null,
      "outputs": [
        {
          "output_type": "stream",
          "name": "stdout",
          "text": [
            "True\n",
            "True\n"
          ]
        }
      ]
    },
    {
      "cell_type": "code",
      "metadata": {
        "id": "9OOYte7F-ZZb",
        "colab": {
          "base_uri": "https://localhost:8080/"
        },
        "outputId": "e555de90-ed44-4c30-8d17-f7c2260a7547"
      },
      "source": [
        "print(\"hola como booleano:\", bool(\"hola\"))\n",
        "print(\"'' como booleano:\", bool(\"\"))"
      ],
      "execution_count": null,
      "outputs": [
        {
          "output_type": "stream",
          "name": "stdout",
          "text": [
            "hola como booleano: True\n",
            "'' como booleano: False\n"
          ]
        }
      ]
    },
    {
      "cell_type": "code",
      "metadata": {
        "id": "XA2xE6s3-p6G",
        "colab": {
          "base_uri": "https://localhost:8080/"
        },
        "outputId": "f182a9e5-e41c-4676-8c37-06dd133a2eba"
      },
      "source": [
        "print(\"True como int:\", int(True))\n",
        "print(\"False como int:\", int(False))"
      ],
      "execution_count": null,
      "outputs": [
        {
          "output_type": "stream",
          "name": "stdout",
          "text": [
            "True como int: 1\n",
            "False como int: 0\n"
          ]
        }
      ]
    },
    {
      "cell_type": "code",
      "metadata": {
        "id": "8ocXx_MVwVmV",
        "colab": {
          "base_uri": "https://localhost:8080/"
        },
        "outputId": "e6edff92-851c-43dd-bf85-8d9bd6189402"
      },
      "source": [
        "palabraTrue = str(True)\n",
        "palabraFalse = str(False)\n",
        "\n",
        "print(\"Tipo palabraTrue:\", type(palabraTrue))\n",
        "print(\"Tipo palabraFalse:\", type(palabraFalse))\n",
        "print(\"True como str:\", palabraTrue)\n",
        "print(\"False como str:\", palabraFalse)"
      ],
      "execution_count": null,
      "outputs": [
        {
          "output_type": "stream",
          "name": "stdout",
          "text": [
            "Tipo palabraTrue: <class 'str'>\n",
            "Tipo palabraFalse: <class 'str'>\n",
            "True como str: True\n",
            "False como str: False\n"
          ]
        }
      ]
    },
    {
      "cell_type": "code",
      "source": [
        "bool(str(False))"
      ],
      "metadata": {
        "colab": {
          "base_uri": "https://localhost:8080/"
        },
        "id": "BM1enMqTkKeM",
        "outputId": "0faeede2-5bd9-4a8d-c791-757014d53e1b"
      },
      "execution_count": null,
      "outputs": [
        {
          "output_type": "execute_result",
          "data": {
            "text/plain": [
              "True"
            ]
          },
          "metadata": {},
          "execution_count": 30
        }
      ]
    },
    {
      "cell_type": "markdown",
      "metadata": {
        "id": "hCH2WoyFQ1N8"
      },
      "source": [
        "Conversión de otros tipos de datos a Boolean:"
      ]
    },
    {
      "cell_type": "code",
      "metadata": {
        "id": "ldtIxlJeRRMv",
        "colab": {
          "base_uri": "https://localhost:8080/"
        },
        "outputId": "b36cdd90-9a39-41b1-846a-9ad9b6fa5dbc"
      },
      "source": [
        "print(\"Si se castea un 0 a bool: \", bool(0))\n",
        "print(\"Si se castea un 1 a bool: \", bool(1))\n",
        "print(\"Si se castea un 0.0 a bool: \", bool(0.0))\n",
        "print(\"Si se castea un 1.0 a bool: \", bool(1.0))\n",
        "print(\"Si se castea un 0.01 a bool: \",bool(0.01))"
      ],
      "execution_count": null,
      "outputs": [
        {
          "output_type": "stream",
          "name": "stdout",
          "text": [
            "Si se castea un 0 a bool:  False\n",
            "Si se castea un 1 a bool:  True\n",
            "Si se castea un 0.0 a bool:  False\n",
            "Si se castea un 1.0 a bool:  True\n",
            "Si se castea un 0.01 a bool:  True\n"
          ]
        }
      ]
    },
    {
      "cell_type": "markdown",
      "metadata": {
        "id": "Jh28cs99wWqM"
      },
      "source": [
        "## Tipo de Dato Texto o **`str`**"
      ]
    },
    {
      "cell_type": "markdown",
      "metadata": {
        "id": "hRbWkgxcb5Sg"
      },
      "source": [
        "Un *string* es una secuencia de caracteres. Los textos o *strings* son un tipo de dato utilizado para guardar secuencias o cadenas de caracteres: letras, palabras, oraciones, texto, etc."
      ]
    },
    {
      "cell_type": "code",
      "metadata": {
        "id": "gLI0GOXcwZDU",
        "colab": {
          "base_uri": "https://localhost:8080/"
        },
        "outputId": "18067a0d-c9db-48a5-8a52-b6696853b407"
      },
      "source": [
        "nombre = \"Juan\"\n",
        "apellido = 'Lopez'\n",
        "\n",
        "nombre_completo = 'Juan \"El Mago\" Lopez'\n",
        "nombre_completo2 = \"Juan 'El Mago' Lopez\"\n",
        "\n",
        "print(nombre)\n",
        "print(apellido)\n",
        "print()\n",
        "print(nombre_completo)\n",
        "print(nombre_completo2)"
      ],
      "execution_count": null,
      "outputs": [
        {
          "output_type": "stream",
          "name": "stdout",
          "text": [
            "Juan\n",
            "Lopez\n",
            "\n",
            "Juan \"El Mago\" Lopez\n",
            "Juan 'El Mago' Lopez\n"
          ]
        }
      ]
    },
    {
      "cell_type": "markdown",
      "metadata": {
        "id": "_-LZ47LlwblE"
      },
      "source": [
        "Recuerdan que decíamos que al llamar la instrucción **`input()`** que todo lo ingresado por el usuario sería almacenado como texto?\n",
        "\n",
        "Bueno, resulta que **¡también podemos convertir *strings* a números y viceversa!**, así podemos operar con ellos.\n"
      ]
    },
    {
      "cell_type": "code",
      "metadata": {
        "id": "yor-inD4wf4M",
        "colab": {
          "base_uri": "https://localhost:8080/"
        },
        "outputId": "86a19abd-d0a4-4128-f18b-fbdcfc081059"
      },
      "source": [
        "numero_como_str = \"3\"\n",
        "numero = 3\n",
        "\n",
        "print(numero_como_str == numero)\n",
        "# print(numero_como_str == str(numero))\n",
        "# print(numero_como_str * 4)\n",
        "# print(numero * 4)"
      ],
      "execution_count": null,
      "outputs": [
        {
          "output_type": "stream",
          "name": "stdout",
          "text": [
            "12\n"
          ]
        }
      ]
    },
    {
      "cell_type": "markdown",
      "metadata": {
        "id": "5Md7wh51wgYl"
      },
      "source": [
        "Vale la pena notar que **un mismo operador puede realizar una operación para un tipo de dato y otra para otro tipo**.\n",
        "\n",
        "Así, por ejemplo, cuando se multiplican enteros se realiza lo que naturalmente conocemos como multiplicación. En cambio, si multiplicamos un *string* por un número lo que se hace es replicar y unir (o concatenar) el *string* tantas veces como lo indique el multiplicador."
      ]
    },
    {
      "cell_type": "markdown",
      "metadata": {
        "id": "P4IMFxBOxnAD"
      },
      "source": [
        "### Operaciones con *Strings*\n",
        "\n",
        "Se pueden realizar muchas operaciones con *strings* que serán de suma utilidad.\n",
        "\n",
        "- **x + y**: en esta operacion se agrega al final del *string* x el contenido de y."
      ]
    },
    {
      "cell_type": "code",
      "metadata": {
        "id": "2yW3x_d-xvMN",
        "colab": {
          "base_uri": "https://localhost:8080/"
        },
        "outputId": "c629855b-26b5-4bf3-82cf-639089b06163"
      },
      "source": [
        "x = 'ho'\n",
        "y = 'la'\n",
        "print(x + y)\n",
        "print(y + x)"
      ],
      "execution_count": null,
      "outputs": [
        {
          "output_type": "stream",
          "name": "stdout",
          "text": [
            "hola\n",
            "laho\n"
          ]
        }
      ]
    },
    {
      "cell_type": "markdown",
      "metadata": {
        "id": "Qf66CtQXaa4_"
      },
      "source": [
        "\n",
        "\n",
        "*   **x * 2**: multiplicar el *string*.\n",
        "\n"
      ]
    },
    {
      "cell_type": "code",
      "metadata": {
        "id": "YmBWFPawam66",
        "colab": {
          "base_uri": "https://localhost:8080/"
        },
        "outputId": "8ba20ac9-4381-4980-a9af-a6d633d85128"
      },
      "source": [
        "x = 'yeah '\n",
        "print(x * 2)\n",
        "print(x * 4)"
      ],
      "execution_count": null,
      "outputs": [
        {
          "output_type": "stream",
          "name": "stdout",
          "text": [
            "yeah yeah \n",
            "yeah yeah yeah yeah \n"
          ]
        }
      ]
    },
    {
      "cell_type": "markdown",
      "metadata": {
        "id": "gWizQK-AKLBY"
      },
      "source": [
        "¿Y se cumplen las mismas reglas de precedencia? Sí!"
      ]
    },
    {
      "cell_type": "code",
      "metadata": {
        "id": "Le5Hk55vJdlJ",
        "colab": {
          "base_uri": "https://localhost:8080/"
        },
        "outputId": "735fbb76-c070-4d3e-d6dd-307921daba6a"
      },
      "source": [
        "x = 'kn'\n",
        "y = 'ock'\n",
        "z = ', '\n",
        "print((x + y + z) * 3)\n",
        "print(x + y + z * 3)"
      ],
      "execution_count": null,
      "outputs": [
        {
          "output_type": "stream",
          "name": "stdout",
          "text": [
            "knock, knock, knock, \n",
            "knock, , , \n"
          ]
        }
      ]
    },
    {
      "cell_type": "markdown",
      "source": [
        "❗ **IMPORTANTE**\n",
        "\n",
        "Adicionalmente a las operaciones vistas y a los métodos que se ven a continuación, podemos usar las funciones **`dir()`** y **`help()`** para conocer más sobre **`str`** (y sobre cualquier tipo/función/objeto) en Python."
      ],
      "metadata": {
        "id": "e8eH2AykZICF"
      }
    },
    {
      "cell_type": "code",
      "source": [
        "dir_str = dir(str)\n",
        "print(type(dir_str))\n",
        "dir_str[0:15]"
      ],
      "metadata": {
        "id": "nx9cZL42ZwFO",
        "colab": {
          "base_uri": "https://localhost:8080/"
        },
        "outputId": "49ecaf43-7720-4d26-98fd-987a7c65433b"
      },
      "execution_count": null,
      "outputs": [
        {
          "output_type": "stream",
          "name": "stdout",
          "text": [
            "<class 'list'>\n"
          ]
        },
        {
          "output_type": "execute_result",
          "data": {
            "text/plain": [
              "['__add__',\n",
              " '__class__',\n",
              " '__contains__',\n",
              " '__delattr__',\n",
              " '__dir__',\n",
              " '__doc__',\n",
              " '__eq__',\n",
              " '__format__',\n",
              " '__ge__',\n",
              " '__getattribute__',\n",
              " '__getitem__',\n",
              " '__getnewargs__',\n",
              " '__gt__',\n",
              " '__hash__',\n",
              " '__init__']"
            ]
          },
          "metadata": {},
          "execution_count": 46
        }
      ]
    },
    {
      "cell_type": "code",
      "source": [
        "help(str) #Si desecomentamos y corremos esta línea tendremos ayuda\n",
        "           #Se deja comentada ya que el output es MUY grande"
      ],
      "metadata": {
        "id": "62vAPwvdeAs9",
        "colab": {
          "base_uri": "https://localhost:8080/"
        },
        "outputId": "8a21f21d-adfd-447d-97e0-decf0b0e6d98"
      },
      "execution_count": null,
      "outputs": [
        {
          "output_type": "stream",
          "name": "stdout",
          "text": [
            "Help on class str in module builtins:\n",
            "\n",
            "class str(object)\n",
            " |  str(object='') -> str\n",
            " |  str(bytes_or_buffer[, encoding[, errors]]) -> str\n",
            " |  \n",
            " |  Create a new string object from the given object. If encoding or\n",
            " |  errors is specified, then the object must expose a data buffer\n",
            " |  that will be decoded using the given encoding and error handler.\n",
            " |  Otherwise, returns the result of object.__str__() (if defined)\n",
            " |  or repr(object).\n",
            " |  encoding defaults to sys.getdefaultencoding().\n",
            " |  errors defaults to 'strict'.\n",
            " |  \n",
            " |  Methods defined here:\n",
            " |  \n",
            " |  __add__(self, value, /)\n",
            " |      Return self+value.\n",
            " |  \n",
            " |  __contains__(self, key, /)\n",
            " |      Return key in self.\n",
            " |  \n",
            " |  __eq__(self, value, /)\n",
            " |      Return self==value.\n",
            " |  \n",
            " |  __format__(self, format_spec, /)\n",
            " |      Return a formatted version of the string as described by format_spec.\n",
            " |  \n",
            " |  __ge__(self, value, /)\n",
            " |      Return self>=value.\n",
            " |  \n",
            " |  __getattribute__(self, name, /)\n",
            " |      Return getattr(self, name).\n",
            " |  \n",
            " |  __getitem__(self, key, /)\n",
            " |      Return self[key].\n",
            " |  \n",
            " |  __getnewargs__(...)\n",
            " |  \n",
            " |  __gt__(self, value, /)\n",
            " |      Return self>value.\n",
            " |  \n",
            " |  __hash__(self, /)\n",
            " |      Return hash(self).\n",
            " |  \n",
            " |  __iter__(self, /)\n",
            " |      Implement iter(self).\n",
            " |  \n",
            " |  __le__(self, value, /)\n",
            " |      Return self<=value.\n",
            " |  \n",
            " |  __len__(self, /)\n",
            " |      Return len(self).\n",
            " |  \n",
            " |  __lt__(self, value, /)\n",
            " |      Return self<value.\n",
            " |  \n",
            " |  __mod__(self, value, /)\n",
            " |      Return self%value.\n",
            " |  \n",
            " |  __mul__(self, value, /)\n",
            " |      Return self*value.\n",
            " |  \n",
            " |  __ne__(self, value, /)\n",
            " |      Return self!=value.\n",
            " |  \n",
            " |  __repr__(self, /)\n",
            " |      Return repr(self).\n",
            " |  \n",
            " |  __rmod__(self, value, /)\n",
            " |      Return value%self.\n",
            " |  \n",
            " |  __rmul__(self, value, /)\n",
            " |      Return value*self.\n",
            " |  \n",
            " |  __sizeof__(self, /)\n",
            " |      Return the size of the string in memory, in bytes.\n",
            " |  \n",
            " |  __str__(self, /)\n",
            " |      Return str(self).\n",
            " |  \n",
            " |  capitalize(self, /)\n",
            " |      Return a capitalized version of the string.\n",
            " |      \n",
            " |      More specifically, make the first character have upper case and the rest lower\n",
            " |      case.\n",
            " |  \n",
            " |  casefold(self, /)\n",
            " |      Return a version of the string suitable for caseless comparisons.\n",
            " |  \n",
            " |  center(self, width, fillchar=' ', /)\n",
            " |      Return a centered string of length width.\n",
            " |      \n",
            " |      Padding is done using the specified fill character (default is a space).\n",
            " |  \n",
            " |  count(...)\n",
            " |      S.count(sub[, start[, end]]) -> int\n",
            " |      \n",
            " |      Return the number of non-overlapping occurrences of substring sub in\n",
            " |      string S[start:end].  Optional arguments start and end are\n",
            " |      interpreted as in slice notation.\n",
            " |  \n",
            " |  encode(self, /, encoding='utf-8', errors='strict')\n",
            " |      Encode the string using the codec registered for encoding.\n",
            " |      \n",
            " |      encoding\n",
            " |        The encoding in which to encode the string.\n",
            " |      errors\n",
            " |        The error handling scheme to use for encoding errors.\n",
            " |        The default is 'strict' meaning that encoding errors raise a\n",
            " |        UnicodeEncodeError.  Other possible values are 'ignore', 'replace' and\n",
            " |        'xmlcharrefreplace' as well as any other name registered with\n",
            " |        codecs.register_error that can handle UnicodeEncodeErrors.\n",
            " |  \n",
            " |  endswith(...)\n",
            " |      S.endswith(suffix[, start[, end]]) -> bool\n",
            " |      \n",
            " |      Return True if S ends with the specified suffix, False otherwise.\n",
            " |      With optional start, test S beginning at that position.\n",
            " |      With optional end, stop comparing S at that position.\n",
            " |      suffix can also be a tuple of strings to try.\n",
            " |  \n",
            " |  expandtabs(self, /, tabsize=8)\n",
            " |      Return a copy where all tab characters are expanded using spaces.\n",
            " |      \n",
            " |      If tabsize is not given, a tab size of 8 characters is assumed.\n",
            " |  \n",
            " |  find(...)\n",
            " |      S.find(sub[, start[, end]]) -> int\n",
            " |      \n",
            " |      Return the lowest index in S where substring sub is found,\n",
            " |      such that sub is contained within S[start:end].  Optional\n",
            " |      arguments start and end are interpreted as in slice notation.\n",
            " |      \n",
            " |      Return -1 on failure.\n",
            " |  \n",
            " |  format(...)\n",
            " |      S.format(*args, **kwargs) -> str\n",
            " |      \n",
            " |      Return a formatted version of S, using substitutions from args and kwargs.\n",
            " |      The substitutions are identified by braces ('{' and '}').\n",
            " |  \n",
            " |  format_map(...)\n",
            " |      S.format_map(mapping) -> str\n",
            " |      \n",
            " |      Return a formatted version of S, using substitutions from mapping.\n",
            " |      The substitutions are identified by braces ('{' and '}').\n",
            " |  \n",
            " |  index(...)\n",
            " |      S.index(sub[, start[, end]]) -> int\n",
            " |      \n",
            " |      Return the lowest index in S where substring sub is found,\n",
            " |      such that sub is contained within S[start:end].  Optional\n",
            " |      arguments start and end are interpreted as in slice notation.\n",
            " |      \n",
            " |      Raises ValueError when the substring is not found.\n",
            " |  \n",
            " |  isalnum(self, /)\n",
            " |      Return True if the string is an alpha-numeric string, False otherwise.\n",
            " |      \n",
            " |      A string is alpha-numeric if all characters in the string are alpha-numeric and\n",
            " |      there is at least one character in the string.\n",
            " |  \n",
            " |  isalpha(self, /)\n",
            " |      Return True if the string is an alphabetic string, False otherwise.\n",
            " |      \n",
            " |      A string is alphabetic if all characters in the string are alphabetic and there\n",
            " |      is at least one character in the string.\n",
            " |  \n",
            " |  isascii(self, /)\n",
            " |      Return True if all characters in the string are ASCII, False otherwise.\n",
            " |      \n",
            " |      ASCII characters have code points in the range U+0000-U+007F.\n",
            " |      Empty string is ASCII too.\n",
            " |  \n",
            " |  isdecimal(self, /)\n",
            " |      Return True if the string is a decimal string, False otherwise.\n",
            " |      \n",
            " |      A string is a decimal string if all characters in the string are decimal and\n",
            " |      there is at least one character in the string.\n",
            " |  \n",
            " |  isdigit(self, /)\n",
            " |      Return True if the string is a digit string, False otherwise.\n",
            " |      \n",
            " |      A string is a digit string if all characters in the string are digits and there\n",
            " |      is at least one character in the string.\n",
            " |  \n",
            " |  isidentifier(self, /)\n",
            " |      Return True if the string is a valid Python identifier, False otherwise.\n",
            " |      \n",
            " |      Call keyword.iskeyword(s) to test whether string s is a reserved identifier,\n",
            " |      such as \"def\" or \"class\".\n",
            " |  \n",
            " |  islower(self, /)\n",
            " |      Return True if the string is a lowercase string, False otherwise.\n",
            " |      \n",
            " |      A string is lowercase if all cased characters in the string are lowercase and\n",
            " |      there is at least one cased character in the string.\n",
            " |  \n",
            " |  isnumeric(self, /)\n",
            " |      Return True if the string is a numeric string, False otherwise.\n",
            " |      \n",
            " |      A string is numeric if all characters in the string are numeric and there is at\n",
            " |      least one character in the string.\n",
            " |  \n",
            " |  isprintable(self, /)\n",
            " |      Return True if the string is printable, False otherwise.\n",
            " |      \n",
            " |      A string is printable if all of its characters are considered printable in\n",
            " |      repr() or if it is empty.\n",
            " |  \n",
            " |  isspace(self, /)\n",
            " |      Return True if the string is a whitespace string, False otherwise.\n",
            " |      \n",
            " |      A string is whitespace if all characters in the string are whitespace and there\n",
            " |      is at least one character in the string.\n",
            " |  \n",
            " |  istitle(self, /)\n",
            " |      Return True if the string is a title-cased string, False otherwise.\n",
            " |      \n",
            " |      In a title-cased string, upper- and title-case characters may only\n",
            " |      follow uncased characters and lowercase characters only cased ones.\n",
            " |  \n",
            " |  isupper(self, /)\n",
            " |      Return True if the string is an uppercase string, False otherwise.\n",
            " |      \n",
            " |      A string is uppercase if all cased characters in the string are uppercase and\n",
            " |      there is at least one cased character in the string.\n",
            " |  \n",
            " |  join(self, iterable, /)\n",
            " |      Concatenate any number of strings.\n",
            " |      \n",
            " |      The string whose method is called is inserted in between each given string.\n",
            " |      The result is returned as a new string.\n",
            " |      \n",
            " |      Example: '.'.join(['ab', 'pq', 'rs']) -> 'ab.pq.rs'\n",
            " |  \n",
            " |  ljust(self, width, fillchar=' ', /)\n",
            " |      Return a left-justified string of length width.\n",
            " |      \n",
            " |      Padding is done using the specified fill character (default is a space).\n",
            " |  \n",
            " |  lower(self, /)\n",
            " |      Return a copy of the string converted to lowercase.\n",
            " |  \n",
            " |  lstrip(self, chars=None, /)\n",
            " |      Return a copy of the string with leading whitespace removed.\n",
            " |      \n",
            " |      If chars is given and not None, remove characters in chars instead.\n",
            " |  \n",
            " |  partition(self, sep, /)\n",
            " |      Partition the string into three parts using the given separator.\n",
            " |      \n",
            " |      This will search for the separator in the string.  If the separator is found,\n",
            " |      returns a 3-tuple containing the part before the separator, the separator\n",
            " |      itself, and the part after it.\n",
            " |      \n",
            " |      If the separator is not found, returns a 3-tuple containing the original string\n",
            " |      and two empty strings.\n",
            " |  \n",
            " |  removeprefix(self, prefix, /)\n",
            " |      Return a str with the given prefix string removed if present.\n",
            " |      \n",
            " |      If the string starts with the prefix string, return string[len(prefix):].\n",
            " |      Otherwise, return a copy of the original string.\n",
            " |  \n",
            " |  removesuffix(self, suffix, /)\n",
            " |      Return a str with the given suffix string removed if present.\n",
            " |      \n",
            " |      If the string ends with the suffix string and that suffix is not empty,\n",
            " |      return string[:-len(suffix)]. Otherwise, return a copy of the original\n",
            " |      string.\n",
            " |  \n",
            " |  replace(self, old, new, count=-1, /)\n",
            " |      Return a copy with all occurrences of substring old replaced by new.\n",
            " |      \n",
            " |        count\n",
            " |          Maximum number of occurrences to replace.\n",
            " |          -1 (the default value) means replace all occurrences.\n",
            " |      \n",
            " |      If the optional argument count is given, only the first count occurrences are\n",
            " |      replaced.\n",
            " |  \n",
            " |  rfind(...)\n",
            " |      S.rfind(sub[, start[, end]]) -> int\n",
            " |      \n",
            " |      Return the highest index in S where substring sub is found,\n",
            " |      such that sub is contained within S[start:end].  Optional\n",
            " |      arguments start and end are interpreted as in slice notation.\n",
            " |      \n",
            " |      Return -1 on failure.\n",
            " |  \n",
            " |  rindex(...)\n",
            " |      S.rindex(sub[, start[, end]]) -> int\n",
            " |      \n",
            " |      Return the highest index in S where substring sub is found,\n",
            " |      such that sub is contained within S[start:end].  Optional\n",
            " |      arguments start and end are interpreted as in slice notation.\n",
            " |      \n",
            " |      Raises ValueError when the substring is not found.\n",
            " |  \n",
            " |  rjust(self, width, fillchar=' ', /)\n",
            " |      Return a right-justified string of length width.\n",
            " |      \n",
            " |      Padding is done using the specified fill character (default is a space).\n",
            " |  \n",
            " |  rpartition(self, sep, /)\n",
            " |      Partition the string into three parts using the given separator.\n",
            " |      \n",
            " |      This will search for the separator in the string, starting at the end. If\n",
            " |      the separator is found, returns a 3-tuple containing the part before the\n",
            " |      separator, the separator itself, and the part after it.\n",
            " |      \n",
            " |      If the separator is not found, returns a 3-tuple containing two empty strings\n",
            " |      and the original string.\n",
            " |  \n",
            " |  rsplit(self, /, sep=None, maxsplit=-1)\n",
            " |      Return a list of the substrings in the string, using sep as the separator string.\n",
            " |      \n",
            " |        sep\n",
            " |          The separator used to split the string.\n",
            " |      \n",
            " |          When set to None (the default value), will split on any whitespace\n",
            " |          character (including \\\\n \\\\r \\\\t \\\\f and spaces) and will discard\n",
            " |          empty strings from the result.\n",
            " |        maxsplit\n",
            " |          Maximum number of splits (starting from the left).\n",
            " |          -1 (the default value) means no limit.\n",
            " |      \n",
            " |      Splitting starts at the end of the string and works to the front.\n",
            " |  \n",
            " |  rstrip(self, chars=None, /)\n",
            " |      Return a copy of the string with trailing whitespace removed.\n",
            " |      \n",
            " |      If chars is given and not None, remove characters in chars instead.\n",
            " |  \n",
            " |  split(self, /, sep=None, maxsplit=-1)\n",
            " |      Return a list of the substrings in the string, using sep as the separator string.\n",
            " |      \n",
            " |        sep\n",
            " |          The separator used to split the string.\n",
            " |      \n",
            " |          When set to None (the default value), will split on any whitespace\n",
            " |          character (including \\\\n \\\\r \\\\t \\\\f and spaces) and will discard\n",
            " |          empty strings from the result.\n",
            " |        maxsplit\n",
            " |          Maximum number of splits (starting from the left).\n",
            " |          -1 (the default value) means no limit.\n",
            " |      \n",
            " |      Note, str.split() is mainly useful for data that has been intentionally\n",
            " |      delimited.  With natural text that includes punctuation, consider using\n",
            " |      the regular expression module.\n",
            " |  \n",
            " |  splitlines(self, /, keepends=False)\n",
            " |      Return a list of the lines in the string, breaking at line boundaries.\n",
            " |      \n",
            " |      Line breaks are not included in the resulting list unless keepends is given and\n",
            " |      true.\n",
            " |  \n",
            " |  startswith(...)\n",
            " |      S.startswith(prefix[, start[, end]]) -> bool\n",
            " |      \n",
            " |      Return True if S starts with the specified prefix, False otherwise.\n",
            " |      With optional start, test S beginning at that position.\n",
            " |      With optional end, stop comparing S at that position.\n",
            " |      prefix can also be a tuple of strings to try.\n",
            " |  \n",
            " |  strip(self, chars=None, /)\n",
            " |      Return a copy of the string with leading and trailing whitespace removed.\n",
            " |      \n",
            " |      If chars is given and not None, remove characters in chars instead.\n",
            " |  \n",
            " |  swapcase(self, /)\n",
            " |      Convert uppercase characters to lowercase and lowercase characters to uppercase.\n",
            " |  \n",
            " |  title(self, /)\n",
            " |      Return a version of the string where each word is titlecased.\n",
            " |      \n",
            " |      More specifically, words start with uppercased characters and all remaining\n",
            " |      cased characters have lower case.\n",
            " |  \n",
            " |  translate(self, table, /)\n",
            " |      Replace each character in the string using the given translation table.\n",
            " |      \n",
            " |        table\n",
            " |          Translation table, which must be a mapping of Unicode ordinals to\n",
            " |          Unicode ordinals, strings, or None.\n",
            " |      \n",
            " |      The table must implement lookup/indexing via __getitem__, for instance a\n",
            " |      dictionary or list.  If this operation raises LookupError, the character is\n",
            " |      left untouched.  Characters mapped to None are deleted.\n",
            " |  \n",
            " |  upper(self, /)\n",
            " |      Return a copy of the string converted to uppercase.\n",
            " |  \n",
            " |  zfill(self, width, /)\n",
            " |      Pad a numeric string with zeros on the left, to fill a field of the given width.\n",
            " |      \n",
            " |      The string is never truncated.\n",
            " |  \n",
            " |  ----------------------------------------------------------------------\n",
            " |  Static methods defined here:\n",
            " |  \n",
            " |  __new__(*args, **kwargs) from builtins.type\n",
            " |      Create and return a new object.  See help(type) for accurate signature.\n",
            " |  \n",
            " |  maketrans(...)\n",
            " |      Return a translation table usable for str.translate().\n",
            " |      \n",
            " |      If there is only one argument, it must be a dictionary mapping Unicode\n",
            " |      ordinals (integers) or characters to Unicode ordinals, strings or None.\n",
            " |      Character keys will be then converted to ordinals.\n",
            " |      If there are two arguments, they must be strings of equal length, and\n",
            " |      in the resulting dictionary, each character in x will be mapped to the\n",
            " |      character at the same position in y. If there is a third argument, it\n",
            " |      must be a string, whose characters will be mapped to None in the result.\n",
            "\n"
          ]
        }
      ]
    },
    {
      "cell_type": "markdown",
      "metadata": {
        "id": "x9ffIB8UxxtM"
      },
      "source": [
        " - **len**( $string$ ): Permite obtener el tamaño de un *string*. Es decir, la cantidad de caracteres de esa cadena."
      ]
    },
    {
      "cell_type": "code",
      "metadata": {
        "id": "f1eLRvKFxy3L"
      },
      "source": [
        "x = \"Hola\"\n",
        "y = 'Adios'\n",
        "\n",
        "print('La cantidad de caracteres de', x, 'es',len(x))\n",
        "print('La cantidad de caracteres de', y, 'es',len(y))"
      ],
      "execution_count": null,
      "outputs": []
    },
    {
      "cell_type": "markdown",
      "metadata": {
        "id": "z4J4XTKSx1RT"
      },
      "source": [
        " - **.startswith**( $algo$ ): Le preguntamos al *string* si empieza con cierto texto."
      ]
    },
    {
      "cell_type": "code",
      "metadata": {
        "id": "A4WAKHMpx3DT"
      },
      "source": [
        "x = 'hola'\n",
        "\n",
        "print(x.startswith('h'))\n",
        "print(x.startswith('x'))"
      ],
      "execution_count": null,
      "outputs": []
    },
    {
      "cell_type": "markdown",
      "metadata": {
        "id": "WYYEsRQKx4wE"
      },
      "source": [
        " - **.endswith**( $algo$ ): Le preguntamos al *string* si termina con cierto texto."
      ]
    },
    {
      "cell_type": "code",
      "metadata": {
        "id": "b-yjwlABkc22"
      },
      "source": [
        "x = 'hola'\n",
        "\n",
        "print(x.endswith('h'))\n",
        "print(x.endswith('a'))"
      ],
      "execution_count": null,
      "outputs": []
    },
    {
      "cell_type": "markdown",
      "metadata": {
        "id": "noPIOT0NOmtK"
      },
      "source": [
        " - **.find**( $algo$ ): Le preguntamos al *string* en qué posición se encuentra cierto conjunto de caracteres. Otra forma de preguntar si cierto texto está contenido en un string es usando la palabra clave `in`"
      ]
    },
    {
      "cell_type": "code",
      "metadata": {
        "id": "Jl48OEXLOnF6"
      },
      "source": [
        "x = 'hola'\n",
        "\n",
        "print(x.find('ho'))\n",
        "print(x.find('la'))\n",
        "# print(x.find('mundo'))\n",
        "print(\"la\" in x)"
      ],
      "execution_count": null,
      "outputs": []
    },
    {
      "cell_type": "markdown",
      "metadata": {
        "id": "uFlMcXbHCqGL"
      },
      "source": [
        " - **[ *índice* ]**: Se pueden obtener letras de un *string*. Entre corchetes se indica el *índice* de la letra deseada, empezando a contar desde cero."
      ]
    },
    {
      "cell_type": "code",
      "metadata": {
        "id": "sC06bXpZyDiU"
      },
      "source": [
        "x = 'hola'\n",
        "\n",
        "print(x[0])\n",
        "print(x[1])\n",
        "print(x[2])\n",
        "print(x[3])\n",
        "\n",
        "print(x[3]+x[2]+x[1]+x[0]+x[3])"
      ],
      "execution_count": null,
      "outputs": []
    },
    {
      "cell_type": "markdown",
      "metadata": {
        "id": "W7UlG1m2Dpxj"
      },
      "source": [
        " - **[ *comienzo* : *fin* ]**: Se puede obtener una secuencia consecutiva de letras de un *string*. Entre corchetes se indica el índice de la primer letra deseada, luego dos puntos, luego el índice de la última letra (la última letra no será incluída)."
      ]
    },
    {
      "cell_type": "code",
      "metadata": {
        "id": "nzb4sBk0yNns"
      },
      "source": [
        "x = 'programacion'\n",
        "\n",
        "# Ayudín:\n",
        "#  p   r   o   g   r   a   m   a   c   i   o   n\n",
        "#  0   1   2   3   4   5   6   7   8   9   10  11\n",
        "# -12 -11 -10 -9  -8  -7  -6  -5  -4  -3  -2  -1\n",
        "\n",
        "print( x[0:8] )\n",
        "print( x[4:8] )\n",
        "\n",
        "# Se pueden usar signos negativos para referir los índices desde el final para atras\n",
        "print( x[-7:-4] )\n",
        "\n",
        "# Se puede omitir el parametro de fin para seguir hasta el final\n",
        "print( x[8: ])\n",
        "\n",
        "# Se puede omitir el parametro de inicio para comenzar desde el principio\n",
        "print( x[ :8])"
      ],
      "execution_count": null,
      "outputs": []
    },
    {
      "cell_type": "markdown",
      "metadata": {
        "id": "4fDilixlFOv5"
      },
      "source": [
        " - **[ *comienzo* : *fin* : *salto* ]**: Se puede obtener una secuencia de letras a una separación regular de un *string*. Entre corchetes se indica el índice de la primer letra deseada, luego dos puntos, luego el índice de la última letra, luego 2 puntos, luego el salto entre letra y letra (la última letra no será incluída)."
      ]
    },
    {
      "cell_type": "code",
      "metadata": {
        "id": "Dzdj3MeGyT-2"
      },
      "source": [
        "x = 'Curso de Python'\n",
        "\n",
        "print( x[0:5:2] )\n",
        "\n",
        "# Se pueden usar signos negativos para referir los índices desde el final para atras\n",
        "# Se puede omitir el parametro de inicio para comenzar desde el principio\n",
        "# Se puede omitir el parametro de fin para seguir hasta el final\n",
        "print( x[0: :3] )\n",
        "\n",
        "# Se puede usar un salto negativo para recorrer el string en sentido inverso\n",
        "print( x[11:1:-2] )\n",
        "# Se puede invertir un string de la siguiente forma\n",
        "print( x[ : :-1] )"
      ],
      "execution_count": null,
      "outputs": []
    },
    {
      "cell_type": "markdown",
      "metadata": {
        "id": "C9Ix4pf0bgg4"
      },
      "source": [
        "\n",
        "*   **.split()**: Se puede dividir un *string* a partir de un caracter que funciona como separador. Esto nos devuelve una lista, tipo de datos que conoceremos la próxima clase!\n"
      ]
    },
    {
      "cell_type": "code",
      "metadata": {
        "id": "kfVA5iARcWia"
      },
      "source": [
        "lista_verduleria = 'papa,zanahoria,calabaza'\n",
        "print(lista_verduleria.split(','))"
      ],
      "execution_count": null,
      "outputs": []
    },
    {
      "cell_type": "markdown",
      "metadata": {
        "id": "jBoI0HcId0Ak"
      },
      "source": [
        "*   **.replace()**: reemplazar un conjunto de caracteres por otro conjunto de caracteres en un *string*.\n"
      ]
    },
    {
      "cell_type": "code",
      "metadata": {
        "id": "Q2CDGmUaeBL8"
      },
      "source": [
        "numeros = '1 2 2 1 1 2 1 2'\n",
        "\n",
        "print(numeros)\n",
        "print(numeros.replace('2','3'))\n",
        "print(numeros.replace('2','3', 2))"
      ],
      "execution_count": null,
      "outputs": []
    },
    {
      "cell_type": "markdown",
      "metadata": {
        "id": "EbA9PBl80MCO"
      },
      "source": [
        "* **.upper() y .lower()**: llevar todo el texto a mayúsculas o minúsculas, respectivamente."
      ]
    },
    {
      "cell_type": "code",
      "metadata": {
        "id": "YyxxojuQ0BXG"
      },
      "source": [
        "saludo = \"HoLa CóMo Va?\"\n",
        "\n",
        "print(saludo.upper())\n",
        "print(saludo.lower())"
      ],
      "execution_count": null,
      "outputs": []
    },
    {
      "cell_type": "markdown",
      "metadata": {
        "id": "EBskybKRfQgY"
      },
      "source": [
        "* **.strip()**: permite quitar espacios al comienzo y al final del string."
      ]
    },
    {
      "cell_type": "code",
      "metadata": {
        "id": "tInqsRV6fPqE"
      },
      "source": [
        "saludo = '     Buen dia!!    '\n",
        "saludo.strip()"
      ],
      "execution_count": null,
      "outputs": []
    },
    {
      "cell_type": "code",
      "metadata": {
        "id": "FU9YiWhxfwBD"
      },
      "source": [
        "saludo.rstrip()"
      ],
      "execution_count": null,
      "outputs": []
    },
    {
      "cell_type": "code",
      "metadata": {
        "id": "ZfjWSG3HfyyH"
      },
      "source": [
        "saludo.lstrip()"
      ],
      "execution_count": null,
      "outputs": []
    },
    {
      "cell_type": "markdown",
      "metadata": {
        "id": "L_4r67VRUpNC"
      },
      "source": [
        "#### 📚 **Ejercicio 2:** Strings\n",
        "\n",
        "1. Pedir a un usuario que ingrese su fruta favorita y *normalizar* el input de forma que permita verificar si la fruta favorita es la \"naranja\". Verificarlo e imprimir el resultado.\n",
        "\n",
        "2. Hacer un programa que permita ingresar un nombre y un apellido usando dos veces la función input( ). Luego debe crear la variable *nombre_y_apellido* que contenga ambos datos separados por un espacio.\n",
        "> Un fabricante de tarjetas admite la impresión de hasta 26 caracteres para el nombre del dueño de la tarjeta, el programa debe imprimir \"Nombre admitido = True/False\" si *nombre_y_apellido* cumple o no con esta restricción (el espacio cuenta como uno de los 26 caracteres disponibles)."
      ]
    },
    {
      "cell_type": "code",
      "metadata": {
        "id": "t9N4SIOcyeUk"
      },
      "source": [
        "# Código Ejercicio 2 Apartado 1\n"
      ],
      "execution_count": null,
      "outputs": []
    },
    {
      "cell_type": "code",
      "source": [
        "# Código Ejercicio 2 Apartado 2\n"
      ],
      "metadata": {
        "id": "2KHgm0hdNq1H"
      },
      "execution_count": null,
      "outputs": []
    },
    {
      "cell_type": "markdown",
      "metadata": {
        "id": "eBEoT0xR5uVG"
      },
      "source": [
        "# Control de Flujo\n",
        "\n",
        "Los programas siguen un \"flujo\" definido por el programador. Hasta ahora, el flujo que siguen todos nuestros programas es secuencial y lineal: se ejecuta una instrucción, luego la siguiente, luego la siguiente a esta, y así sucesivamente hasta terminar con la última instrucción.\n",
        "\n",
        "Sin embargo, es posible realizar tareas diferentes dependiendo de ciertas condiciones, repetir segmentos de código, y modificar el flujo del programa de forma que no sea simplemente una secuencia lineal de instrucciones. Esto permite realizar tareas mucho más complejas, en las cuales el programa tome decisiones respecto a lo que debe hacer en función de la situación.\n",
        "\n",
        "Notar que todas las estructuras que veremos terminan con un \"**:**\" , y la siguiente línea tiene **un tab de *indentación*** (una sangría igual a cuatro espacios). Este tab es obligatorio en python cuando trabajamos con estructuras de control de flujo.\n",
        "\n",
        "Además, podemos combinar estas estructuras de cualquier manera, dependiendo de nuestras necesidades."
      ]
    },
    {
      "cell_type": "markdown",
      "metadata": {
        "id": "oex4HES35x2b"
      },
      "source": [
        "##  Ejecución Condicional: La Estructura **`if`**"
      ]
    },
    {
      "cell_type": "markdown",
      "metadata": {
        "id": "KHRAqlbg52wr"
      },
      "source": [
        "El **`if`** es la estructura básica que permite analizar si se cumple una condición (es decir, si es equivalente a **`True`**), y realizar distintas acciones de acuerdo a si eso sucede o no.\n",
        "\n",
        "Las distintas formas de implementar esta estructura son las siguientes:\n",
        "\n",
        "```python\n",
        "if (condicion):\n",
        "    #Lo que se hace si se cumple la condición (ejecución condicional)\n",
        "\n",
        "\n",
        "if (condicion):\n",
        "    #Lo que se hace si se cumple la condición\n",
        "else:\n",
        "    #Lo que se hace si no se cumple la condición (ejecución alternativa)\n",
        "\n",
        "\n",
        "if (condicion1):\n",
        "    #Lo que se hace si se cumple la condición1\n",
        "elif (condicion2):\n",
        "    #Lo que se hace si no se cumple la condicion1, pero sí la condicion2\n",
        "elif (condicion3):\n",
        "    #Lo que se hace si no se cumple la condicion1 ni la condición2, pero sí la condición3\n",
        "else:\n",
        "    #Lo que se hace si no se cumple ninguna condición\n",
        "\n",
        "if (condicion1):\n",
        "    #Lo que se hace si se cumple la condición1\n",
        "elif (condicion2):\n",
        "    #Lo que se hace si no se cumple la condicion1, pero sí la condicion2\n",
        "\n",
        "```\n",
        "    \n",
        "Se debe prestar especial atención a la ***indentación/tabulación***. Siempre que se define un **`if`**, se crea un bloque de código (un conjunto de instrucciones) que es el que se ejecuta cuando se cumple la condición establecida. Este bloque de código debe tener una \"sangría\", ya que de esta forma Python comprende donde empieza y donde termina el mismo. Si se utiliza la \"sangría\" incorrectamente, Python indicará que hay un error en el código y no se podrá ejecutar.\n",
        "\n",
        "Notar también que siempre comienza con **`if`**, después puede haber cualquier cantidad de **`elif`** (o ninguno) y luego se puede terminar con **`else`** (o no necesariamente). Luego del **`else`** no puede haber más **`elif`**.\n",
        "\n",
        " ¿Cuál será la salida de los siguientes programas?"
      ]
    },
    {
      "cell_type": "code",
      "metadata": {
        "id": "_dSxaNFB564K"
      },
      "source": [
        "x = 5\n",
        "y = 8\n",
        "\n",
        "if x == y:\n",
        "    print(x)\n",
        "elif y < 5 or y > 7:\n",
        "    print(x + y)\n",
        "else:\n",
        "    print(y)\n",
        "\n",
        "print(\"FIN\")"
      ],
      "execution_count": null,
      "outputs": []
    },
    {
      "cell_type": "markdown",
      "metadata": {
        "id": "Q_2xLeva2dMJ"
      },
      "source": [
        "Es muy común expresar las sentencias condicionales a través de un **diagrama de flujo**. Esta es una herramienta visual que permite seguir correctamente los diferentes caminos que pueden surgir con la sentencia **`if`**.\n",
        "\n",
        "Para el programa anterior, el diagrama que lo representa es el siguiente:\n",
        "\n",
        "<p align=\"center\">\n",
        "<img\n",
        "     src=\"https://drive.google.com/uc?export=view&id=1gldDdC8C97lVgIrhKEtwsHr-x4ATvh4U\"\n",
        "     alt=\"pypl\"\n",
        "     width=20%\n",
        "     height=20%>\n",
        "</p>\n"
      ]
    },
    {
      "cell_type": "code",
      "metadata": {
        "id": "EjRwglVjIG9Y"
      },
      "source": [
        "if x >= y:\n",
        "    print(\"x es mayor o igual que y\")"
      ],
      "execution_count": null,
      "outputs": []
    },
    {
      "cell_type": "code",
      "metadata": {
        "id": "OffpajUIHPJA"
      },
      "source": [
        "if x >= y:\n",
        "    print(\"x es mayor o igual que y\")\n",
        "print('Ya pasé a otra instrucción!')"
      ],
      "execution_count": null,
      "outputs": []
    },
    {
      "cell_type": "code",
      "metadata": {
        "id": "wF7IQow1HvGu"
      },
      "source": [
        "x = 12\n",
        "y = 6\n",
        "\n",
        "if x > y:\n",
        "    print(\"x es mayor que y\")\n",
        "    print('Buen trabajo!')\n",
        "print('Ya pasé a otra instrucción!')"
      ],
      "execution_count": null,
      "outputs": []
    },
    {
      "cell_type": "code",
      "metadata": {
        "id": "pk5EC4ss581N"
      },
      "source": [
        "y = int(input(\"Ingrese el valor de y: \"))\n",
        "if y == 13:\n",
        "    print(\"Adivinamos el valor de y!\")\n",
        "\n",
        "x = int(input(\"Ingrese el valor de x: \"))\n",
        "if x == 93:\n",
        "    print(\"Adivinamos el valor de x!\")\n",
        "else:\n",
        "    print(\"No adivinamos el valor de x  :(\")\n",
        "\n",
        "if x > y:\n",
        "    print(\"x es mayor que y\")\n",
        "elif x < y:\n",
        "    print(\"y es mayor que x\")\n",
        "elif x == y:\n",
        "    print(\"x e y son iguales\")\n",
        "else:\n",
        "    print(\"que anda pasando?\")\n",
        "\n",
        "print(\"FIN\")"
      ],
      "execution_count": null,
      "outputs": []
    },
    {
      "cell_type": "markdown",
      "metadata": {
        "id": "0Azh5r_hqDv7"
      },
      "source": [
        "Diagrama de flujo:\n",
        "\n",
        "<p align=\"center\">\n",
        "<img\n",
        "     src=\"https://drive.google.com/uc?export=view&id=1lymR8Yp3wMWGtJ5_JF_9AUFCn6k7_s6B\"\n",
        "     alt=\"pypl\"\n",
        "     width=20%\n",
        "     height=20%>\n",
        "</p>"
      ]
    },
    {
      "cell_type": "markdown",
      "metadata": {
        "id": "LwALviO96vEi"
      },
      "source": [
        "#### 📚 **Ejercicio 3:** if\n",
        "1. Realizar un programa que revise si una nota está aprobada (es decir si es mayor o igual a 4) utilizando un `if/else`. La nota será ingresada por el usuario usando input().\n",
        "2. Realizar un programa que convierta una nota porcentual del 0 al 100 a una letra entre A y F de acuerdo a la siguiente conversión:\n",
        "\n",
        " - A: 90–100\n",
        "\n",
        " - B: 80–89\n",
        "\n",
        " - C: 70–79\n",
        "\n",
        " - D: 60–69\n",
        "\n",
        " - F: 0–59"
      ]
    },
    {
      "cell_type": "code",
      "metadata": {
        "id": "YTFYbjuT6wg6"
      },
      "source": [
        "# Código Ejercicio 3 Apartado 1\n"
      ],
      "execution_count": null,
      "outputs": []
    },
    {
      "cell_type": "code",
      "metadata": {
        "id": "U4qig2EKuzNl"
      },
      "source": [
        "# Código Ejercicio 3 Apartado 2\n"
      ],
      "execution_count": null,
      "outputs": []
    },
    {
      "cell_type": "markdown",
      "metadata": {
        "id": "Il0FYHQV6w5q"
      },
      "source": [
        "##  Iteración: La Estructura **`while`**\n"
      ]
    },
    {
      "cell_type": "markdown",
      "metadata": {
        "id": "z264S6Ey62VL"
      },
      "source": [
        "Otra posibilidad es que necesitemos repetir tareas idénticas una cierta cantidad de veces. La estructura **`while`** permite implementar *ciclos* en nuestro programa (también llamados *loops* o *bucles*). Es decir, repetir una porción del código una y otra vez, en tanto se verifique cierta condición. La estructura básica es la siguiente:\n",
        "\n",
        "```python\n",
        "while (condicion_de_corte):\n",
        "    #Lo que se hace mientras que se cumpla la condicion\n",
        "```\n",
        "\n",
        "En el siguiente bloque de código pueden ver a esta estructura en acción:"
      ]
    },
    {
      "cell_type": "code",
      "metadata": {
        "id": "JiQ0WSGk68Ma"
      },
      "source": [
        "x = 1\n",
        "\n",
        "while x < 10:\n",
        "    print(x)\n",
        "    x += 1\n",
        "\n",
        "print(\"Continuo con el resto del programa\")"
      ],
      "execution_count": null,
      "outputs": []
    },
    {
      "cell_type": "markdown",
      "metadata": {
        "id": "zAwkfq_zzwlz"
      },
      "source": [
        "El diagrama de flujo que representa al programa anterior es el siguiente:\n",
        "\n",
        "<p align=\"center\">\n",
        "<img\n",
        "     src=\"https://drive.google.com/uc?export=view&id=1tvS-sN9XqEEj8UwFjTAwQWO-oHT_0bg4\"\n",
        "     alt=\"pypl\"\n",
        "     width=30%\n",
        "     height=30%>\n",
        "</p>\n",
        "\n",
        "\n"
      ]
    },
    {
      "cell_type": "markdown",
      "metadata": {
        "id": "MHCgdZSK7ATS"
      },
      "source": [
        "De manera más formal, el flujo de ejecución de la estructura **`while`** es el siguiente:\n",
        "\n",
        "1. Determinar si la condición de corte es verdadera o falsa (`True` o `False`).\n",
        "2. Si la condición es verdadera, se ejecuta el cuerpo dentro del `while` y se vuelve al paso 1.\n",
        "3. Si la condición es falsa, se sale del bucle sin correr el bloque de código *indentado*, y se continúa ejecutando el programa en la línea siguiente (no *indentada*).\n",
        "\n",
        "Es importante tener en cuenta que la condición se evalúa al principio del ciclo y no se volverá a evaluar hasta tanto no se terminen de ejecutar todas las instrucciones contenidas dentro del bloque **`while`**.\n",
        "\n",
        "Al usar una variable auxiliar para contar la cantidad de repeticiones del **`while`**, es recomendable no modificar su contenido dentro del bloque excepto para incrementar/decrementar su valor acordemente. Esto es porque se corre el riesgo de que la condición siempre sea `True` y el **`while`** se ejecute infinitamente.\n",
        "\n",
        "¿Qué realiza este programa?"
      ]
    },
    {
      "cell_type": "code",
      "metadata": {
        "id": "E8fCa1MJ7Ey5"
      },
      "source": [
        "nota = int( input('Ingrese un número del 1 al 10: ') )\n",
        "\n",
        "while nota < 1 or nota > 10:\n",
        "  print('Fuera de rango!')\n",
        "  nota = int( input('Ingrese un número del 1 al 10: ') )\n",
        "\n",
        "print(\"La nota es mayor a 4?\", nota >= 4 )"
      ],
      "execution_count": null,
      "outputs": []
    },
    {
      "cell_type": "markdown",
      "metadata": {
        "id": "Ym4eoxK2KoPN"
      },
      "source": [
        "**¡Cuidado!** Algo muy importante a tener en cuenta es que si la condición se cumple siempre, el código se ejecutará infinitamente. Por lo tanto, hay que tener mucha precaución al momento de definir la condición de corte."
      ]
    },
    {
      "cell_type": "code",
      "metadata": {
        "id": "wqy13ULj1z8X"
      },
      "source": [
        "# El caso extremo como ejemplo\n",
        "\n",
        "while True:\n",
        "    print(1)"
      ],
      "execution_count": null,
      "outputs": []
    },
    {
      "cell_type": "markdown",
      "metadata": {
        "id": "8zB0PqRW7NJE"
      },
      "source": [
        "#### 📚 **Ejercicio 4:** while\n",
        "\n",
        "1. Realizar un programa que muestre únicamente, los números múltiplos de 7 en el rango del 1 al 100.\n",
        "\n",
        "2. Implementar un programa que muestre la siguiente secuencia:\n",
        "1, 2, 3, 4, 5, 4, 3, 2, 1, 0\n",
        "\n",
        " **Para un desafío mayor:** Utilizar 1 solo *while*, 1 solo *if* y 1 solo *else*. Es recomendable que la variable usada para contar los pasos se mantenga contando siempre de la misma forma."
      ]
    },
    {
      "cell_type": "code",
      "source": [
        "# Código Ejercicio 4 Apartado 1\n"
      ],
      "metadata": {
        "id": "lHSvU6B7v3_w"
      },
      "execution_count": null,
      "outputs": []
    },
    {
      "cell_type": "code",
      "metadata": {
        "id": "GicyfUZh7OM7"
      },
      "source": [
        "# Código Ejercicio 4 Apartado 2\n"
      ],
      "execution_count": null,
      "outputs": []
    },
    {
      "cell_type": "markdown",
      "metadata": {
        "id": "tVpZnLul7PYp"
      },
      "source": [
        "## Iteración: La Estructura **`for`**\n"
      ]
    },
    {
      "cell_type": "markdown",
      "metadata": {
        "id": "M3YR1bcA7WA-"
      },
      "source": [
        "La estructura **`for`** permite realizar una serie de acciones en bucle con una variable, la cual irá cambiando su valor en cada repetición. La sintaxis de esta estructura es la siguiente:\n",
        "\n",
        "```python\n",
        "for (variable) in (conjunto de valores):\n",
        "    #Lo que quieras hacer con tu variable\n",
        "```\n",
        "\n",
        "Es decir, luego del **`for`** se crea una variable que será la que irá adoptando los distintos valores **que se encuentran en** (**`in`**) el conjunto de valores posibles. Veámoslo en un ejemplo de código:"
      ]
    },
    {
      "cell_type": "code",
      "metadata": {
        "id": "yPvlJVUf8PqC"
      },
      "source": [
        "for x in range(0,15,5):\n",
        "    print(x)"
      ],
      "execution_count": null,
      "outputs": []
    },
    {
      "cell_type": "markdown",
      "metadata": {
        "id": "3CJlInrf8Eep"
      },
      "source": [
        "La instrucción **`range(a,b,d)`** genera los valores desde ***a*** hasta ***b*** con incrementos de ***d***. Por ejemplo, el siguiente codigo generara los numeros pares entre 0 y 10:"
      ]
    },
    {
      "cell_type": "code",
      "metadata": {
        "id": "EKvTidV78IYD"
      },
      "source": [
        "for x in range(0,10,2):\n",
        "    print(x)"
      ],
      "execution_count": null,
      "outputs": []
    },
    {
      "cell_type": "markdown",
      "metadata": {
        "id": "onOxtk1d8YeC"
      },
      "source": [
        "Algo importante a notar es que el límite superior del rango no se incluye."
      ]
    },
    {
      "cell_type": "code",
      "metadata": {
        "id": "_0gd7DLw7Ylz"
      },
      "source": [
        "init = int(input(\"Ingrese el inicio:\"))\n",
        "fin = int(input(\"Ingrese el fin:\"))\n",
        "step = int(input(\"Ingrese el salto:\"))\n",
        "\n",
        "for x in range(init, fin, step):\n",
        "    print(\"x =\", x)"
      ],
      "execution_count": null,
      "outputs": []
    },
    {
      "cell_type": "markdown",
      "metadata": {
        "id": "T48nXeEY8EZa"
      },
      "source": [
        "Al utilizar la instrucción **`range()`** no es necesario proporcionar siempre los 3 parámetros. Observen qué sucede cuando se proporcionan solamente 1 o 2 parámetros:"
      ]
    },
    {
      "cell_type": "code",
      "metadata": {
        "id": "Ng0wu3H_8aTx"
      },
      "source": [
        "print(\"range(5):\")\n",
        "for x in range(5):\n",
        "    print(x)\n",
        "\n",
        "print(\"range(10, 15):\")\n",
        "for x in range(10, 15):\n",
        "    print(x)"
      ],
      "execution_count": null,
      "outputs": []
    },
    {
      "cell_type": "code",
      "source": [],
      "metadata": {
        "id": "T95HadWBPdLg"
      },
      "execution_count": null,
      "outputs": []
    },
    {
      "cell_type": "markdown",
      "metadata": {
        "id": "W2f-0qlQb3Lz"
      },
      "source": [
        "### Break\n",
        "Hay algunos escenarios en los que es necesario hacer un bucle hasta que \"algo\" ocurra. Una vez que ese \"algo\" ocurre, se corta la ejecución del *loop*. Para ello se utiliza un bucle **`for`** o **`while`** con una declaración de interrupción: **`break`**.\n",
        "\n"
      ]
    },
    {
      "cell_type": "code",
      "metadata": {
        "id": "uRHEHRFTecGH"
      },
      "source": [
        "for nro in range(1,10):\n",
        "    if nro == 5:\n",
        "        break\n",
        "    print(nro)\n",
        "\n",
        "print(\"FIN\")"
      ],
      "execution_count": null,
      "outputs": []
    },
    {
      "cell_type": "markdown",
      "metadata": {
        "id": "0glOmUSKea61"
      },
      "source": [
        "\n",
        "El siguiente ejemplo es un programa que le pide al usuario que ingrese palabras y las imprime en mayúsculas, para salir del programa hay que escribir 'stop'."
      ]
    },
    {
      "cell_type": "code",
      "metadata": {
        "id": "WaAIg7sDdY3N"
      },
      "source": [
        "while True:\n",
        "    palabra = input(\"Ingrese una palabra (para salir del programa ingrese 'stop'): \")\n",
        "    if palabra == \"stop\":\n",
        "        break\n",
        "    print(palabra.capitalize())\n",
        "\n",
        "print(\"FIN\")"
      ],
      "execution_count": null,
      "outputs": []
    },
    {
      "cell_type": "markdown",
      "metadata": {
        "id": "ATadyI5tb-1I"
      },
      "source": [
        "### Continue\n",
        "\n",
        "En otros escenarios se requiere que el *loop* no se corte, sino que saltee a la siguiente iteración. Para ello existe la declaración **`continue`**.\n",
        "\n",
        "El siguiente programa le pide al usuario que ingrese un número y verifica si es impar. En caso de que no sea impar, el usuario debe ingresar otro número."
      ]
    },
    {
      "cell_type": "code",
      "metadata": {
        "id": "wwWYMW4WhMx4"
      },
      "source": [
        "while True:\n",
        "    valor = input(\"Ingrese un número (para salir del programa ingrese 'stop'): \")\n",
        "    if valor == \"stop\":\n",
        "        break\n",
        "    nro = int(valor)\n",
        "    if nro % 2 == 0:\n",
        "        continue\n",
        "    print(f'es impar {nro} ')\n",
        "\n",
        "print(\"FIN\")"
      ],
      "execution_count": null,
      "outputs": []
    },
    {
      "cell_type": "markdown",
      "metadata": {
        "id": "mdVTVfnAWc7P"
      },
      "source": [
        "### **`for`** Sobre un *String*\n",
        "La estructura **`for`** tiene una gran versatilidad, ya que no está limitada a recorrer los valores generados por **`range()`**. También es posible recorrer los caracteres de un *string*, tal como se muestra a continuación:"
      ]
    },
    {
      "cell_type": "code",
      "metadata": {
        "id": "RFlqJpczyX07"
      },
      "source": [
        "texto = \"Curso de Python\"\n",
        "vocales = 0\n",
        "\n",
        "for c in texto:\n",
        "    print(c)\n",
        "    if c == 'a' or c == 'e' or c == 'i' or c == 'o' or c == 'u':\n",
        "        vocales = vocales + 1\n",
        "\n",
        "print(\"Vocales: \", vocales)"
      ],
      "execution_count": null,
      "outputs": []
    },
    {
      "cell_type": "markdown",
      "metadata": {
        "id": "rJqlu1CZ8b_p"
      },
      "source": [
        "### 📚 **Ejercicio 5:** for\n",
        "\n",
        "1. Realizar un programa para controlar el sistema de impresión de etiquetas con códigos de barras en un supermercado. Primero se debe ingresar la cantidad de productos diferentes que necesitan etiquetas. Luego para cada producto se ingresa el código correspondiente y la cantidad requerida. Imprimir en pantalla los códigos solicitados, la cantidad requerida de veces.\n",
        "\n",
        "**Ejemplo:**\n",
        "\n",
        "*Input:*\n",
        "\n",
        "  ```\n",
        "  3\n",
        "  000000123\n",
        "  1\n",
        "  123000789\n",
        "  3\n",
        "  000031416\n",
        "  2\n",
        "  ```\n",
        "\n",
        "*Output:*\n",
        "\n",
        "  ```\n",
        "  000000123\n",
        "  123000789\n",
        "  123000789\n",
        "  123000789\n",
        "  000031416\n",
        "  000031416\n",
        "  ```"
      ]
    },
    {
      "cell_type": "code",
      "source": [
        "# Código Ejercicio 5\n"
      ],
      "metadata": {
        "id": "i9g1drmgUacN"
      },
      "execution_count": null,
      "outputs": []
    },
    {
      "cell_type": "markdown",
      "source": [
        "### Para tener en cuenta: **`assert`**\n",
        "\n",
        "Las declaraciones **`assert`** firman o declaran un hecho con confianza en su programa. Estas son simplemente expresiones booleanas que verifican si las condiciones son verdaderas o no. Si es cierto, el programa no hace nada y pasa a la siguiente línea de código. Sin embargo, si es falso, el programa se detiene y arroja un error. Ésto sirve tanto para realizar depuración de código, como para garantizar que el mismo se detenga ante un evento inesperado, teniendo en cuenta las libertades que nos brinda python."
      ],
      "metadata": {
        "id": "PW0cOuKsX3KD"
      }
    },
    {
      "cell_type": "code",
      "metadata": {
        "id": "IMk9yh638clB"
      },
      "source": [
        "#dividir la cuenta\n",
        "inp = int(input('ingrese el número de personas: '))\n",
        "value = int(input('ingrese el valor de la cuenta: '))\n",
        "\n",
        "assert inp != 0, 'la cantidad de personas ingresadas debe ser mayor a 0'\n",
        "cost = value/inp\n",
        "\n",
        "print(cost)"
      ],
      "execution_count": null,
      "outputs": []
    },
    {
      "cell_type": "markdown",
      "source": [
        "Si recordamos el zen de python (**`import this`**) una de las líneas nos decía: \"errors should never pass silently\". El **`assert`** nos garantiza que si hay un error que normalmente no rompería la ejecución del código pero que esta incluído en la sentencia, un mensaje de error nos aparezca."
      ],
      "metadata": {
        "id": "YotsHbEfPrht"
      }
    },
    {
      "cell_type": "markdown",
      "metadata": {
        "id": "aLXOt35v8dUS"
      },
      "source": [
        "# Funciones\n",
        "\n",
        "<p align=\"center\">\n",
        "<img\n",
        "     src=\"https://drive.google.com/uc?export=view&id=18oc8Y2B5AGUwt4M6kOC8SVs2SY5_geH-\"\n",
        "     alt=\"pypl\"\n",
        "     width=50%\n",
        "     height=50%>\n",
        "</p>\n"
      ]
    },
    {
      "cell_type": "markdown",
      "metadata": {
        "id": "2pd1RVSEeNa-"
      },
      "source": [
        "Las **funciones** son un \"*pedazo de código*\" reutilizable que se crean con el objetivo de no repetir las mismas instrucciones más de una vez dentro de un programa. Es decir, son bloques que nos permiten acortar el código no repitiendo estructuras que necesitamos utilizar varias veces.\n",
        "\n",
        "Una función es un conjunto de instrucciones empaquetadas bajo el mismo nombre. Es como un pequeño programa dentro del programa, una manera de crear nuestras propias instrucciones. Al igual que los programas, las funciones tienen un **input** y un **output**: el input son las variables de entrada y el output el valor o los valores que devuelven.\n",
        "\n",
        "Por ejemplo, supongamos que frecuentemente se necesitan calcular las ganancias totales generadas por un producto. Cada vez que quiera realizar este cálculo, tendré que obtener el costo de venta, restarle el costo de fabricación y multiplicarlo por las cantidades vendidas. Usando una función podemos crear una instrucción a la que se le ingrese el código de un producto y devuelva como resultado la ganancia total generada por ese producto. De esta forma, se puede escribir el nombre de la función o \"*llamarla*\" cada vez que se necesite hacer este cálculo, sin necesidad de tener que escribir nuevamente el procedimiento completo.\n",
        "\n",
        "En Python, las funciones se implementan de la siguiente forma:\n",
        "\n",
        "```python\n",
        "def mi_funcion(a , b , c , ...):\n",
        "    \n",
        "    # Hago lo que necesite con las variables a, b, c, ...\n",
        "    # En este caso, creamos las variables x, y, z, ...\n",
        "    \n",
        "    return x , y , z , ...\n",
        "```\n",
        "En este caso, \"*a , b , c , ...*\" son los inputs, mientras que \"*x , y , z , ...*\" son los outputs. Notar que al finalizar con las instrucciones, todo lo que querramos que la función devuelva como output debe estar precedido de la palabra **`return`**.\n",
        "\n",
        "Es importante tener en cuenta que **la definición de la funcion no provoca ninguna acción**, solamente se guardan las instrucciones que se ejecutarán la proxima vez que se escriba el nombre de la función (es decir, cuando se la llame). Para **llamar una función**, utilizaremos el nombre con que fue definida seguido de **`()`**, dentro de los cuales especificaremos los argumentos (inputs).\n",
        "\n",
        "Veamos un ejemplo:"
      ]
    },
    {
      "cell_type": "markdown",
      "source": [
        "Material\n",
        "\n",
        "https://realpython.com/\n",
        "\n",
        "https://readthedocs.org/projects/python/\n"
      ],
      "metadata": {
        "id": "g_IIsrDsltE6"
      }
    },
    {
      "cell_type": "code",
      "metadata": {
        "id": "CTdJyrrV8nFT"
      },
      "source": [
        "def suma(a, b):\n",
        "    s = a + b\n",
        "    return s\n",
        "\n",
        "x = int(input(\"Ingrese el primer sumando:\"))\n",
        "y = int(input(\"Ingrese el segundo sumando:\"))\n",
        "z = suma(x, y)\n",
        "print(\"x + y =\", z)"
      ],
      "execution_count": null,
      "outputs": []
    },
    {
      "cell_type": "code",
      "metadata": {
        "id": "-fh8SjIw6MRz"
      },
      "source": [
        "# Y qué pasará acá?\n",
        "\n",
        "def suma_mal(a, b):\n",
        "    s = a + b\n",
        "    return 3\n",
        "\n",
        "print(suma_mal(100, 6))"
      ],
      "execution_count": null,
      "outputs": []
    },
    {
      "cell_type": "markdown",
      "metadata": {
        "id": "Ix_Kp3BS82qB"
      },
      "source": [
        "Como se puede observar, la instrucción **`return`** sirve para indicar el resultado que la función devuelve. Una vez que se alcanza la instrucción **`return`**, la función termina y retorna el valor indicado. ¿Qué pasará si se agrega una instrucción indentada también, pero después del **`return`**?\n",
        "\n",
        "Además, también podemos combinar funciones con las estructuras que vimos previamente:"
      ]
    },
    {
      "cell_type": "code",
      "metadata": {
        "id": "UXBXhuzV83uq"
      },
      "source": [
        "def chequear_contraseña(c):\n",
        "    if c == \"Secreto\":\n",
        "        resultado = True\n",
        "    else:\n",
        "        resultado = False\n",
        "    return resultado\n",
        "\n",
        "\n",
        "ingresado = input(\"Ingrese contraseña: \")\n",
        "while not chequear_contraseña(ingresado):\n",
        "    ingresado = input(\"Contraseña incorrecta. Ingrese de nuevo:\")\n",
        "else:\n",
        "    print(\"Contraseña correcta.\")"
      ],
      "execution_count": null,
      "outputs": []
    },
    {
      "cell_type": "markdown",
      "metadata": {
        "id": "AukWcj7392fp"
      },
      "source": [
        "Entonces, siempre que querramos que la función devuelva algún valor (o varios), utilizaremos la instrucción **return**. Sin embargo, no siempre es necesario que la función cierre con **return** al final. En este caso, la función va a terminar cuando finalice el bloque *indentado* (con sangría), retornando **`None`**, que es un objeto en Python. Por ejemplo:"
      ]
    },
    {
      "cell_type": "code",
      "metadata": {
        "id": "fSc2Jxnf8Tet"
      },
      "source": [
        "def upper_print_x5(nombre):\n",
        "    for i in range(5):\n",
        "        print(nombre.upper())\n",
        "\n",
        "nombre_ingresado = input(\"Ingrese su nombre: \")\n",
        "upper_print_x5(nombre_ingresado)"
      ],
      "execution_count": null,
      "outputs": []
    },
    {
      "cell_type": "markdown",
      "metadata": {
        "id": "tKhYgU5U8C9L"
      },
      "source": [
        "¿Cómo modificarían la función anterior para que imprima el nombre $n$ veces?\n",
        "\n",
        "**Nota**: ¿Se dieron cuenta que la forma que usamos para imprimir una variable es una función? Lo que hace **`print(...)`** es llamar a una función ya creada que está en el estandar de Python y permite mostrar el contendido de lo que se le pase como parametro a la función."
      ]
    },
    {
      "cell_type": "markdown",
      "metadata": {
        "id": "Cd8qsFnaLdHn"
      },
      "source": [
        "### Un Paréntesis: Métodos\n",
        "\n",
        "Podemos observar que algunas de las operaciones con *strings* que vimos anteriormente se aplican de una manera diferente a las funciones que usamos hasta ahora. Por ejemplo, para usar **.startswith( )** debemos escribir la instrucción separada por un punto luego de la variable:\n",
        "\n",
        "```python\n",
        "nombre = \"juan\"\n",
        "print( nombre.startswith('j') )\n",
        "```\n",
        "\n",
        "A este tipo de instrucción se la denomina *método* y se utiliza con un punto luego de un objeto. La diferencia entre este y una función es sutil y tiene que ver con que **un método es aplicado *sobre* un elemento**. Tengo un elemento, como puede ser una variable de tipo string, y sobre ese elemento efectúo cierta acción. Los métodos pueden recibir parámetros, como es en el caso anterior la letra a evaluar.\n",
        "\n",
        "Las funciones, por su parte, se utilizan declarándolas por su nombre con un par de **`()`** al final. En el caso de que la función requiera parámetros, dentro de los **`()`** incluiremos los argumentos.\n",
        "\n",
        "Python nos provee de muchos métodos distintos para todos los tipos de variables. **Nadie conoce todos**, por lo cual nunca duden en buscar qué métodos existen para ver si hay alguno que resuelva su problema.\n",
        "\n",
        "Esta es una [lista de los métodos](https://docs.python.org/3/library/stdtypes.html#string-methods) que existen para strings.\n"
      ]
    },
    {
      "cell_type": "markdown",
      "metadata": {
        "id": "CHh19j1e934p"
      },
      "source": [
        "#### 📚 **Ejercicio 6:** Funciones\n",
        "Escribir una función que chequee los siguientes usuarios y contraseñas:\n",
        "*  *Usuario:* Juan\n",
        "\n",
        " *Contraseña:* 12345_\n",
        "*  *Usuario:* Pablo\n",
        "\n",
        " *Contraseña:* xDcFvGbHn\n",
        "\n",
        "La función debe recibir como parámetros el usuario y la contraseña, y debe devolver el valor True o False."
      ]
    },
    {
      "cell_type": "code",
      "metadata": {
        "id": "juRSTpgZ96qY"
      },
      "source": [
        "# Código Ejercicio 6\n"
      ],
      "execution_count": null,
      "outputs": []
    },
    {
      "cell_type": "markdown",
      "metadata": {
        "id": "J2FkAJt9-h5D"
      },
      "source": [
        "# 🚨 Ejercicios Integradores"
      ]
    },
    {
      "cell_type": "markdown",
      "metadata": {
        "id": "GNGPP_3g-jtx"
      },
      "source": [
        "## 1. Función de Cálculo de Promedio\n",
        "Como el cálculo del promedio es una tarea recurrente, utilizaremos una función que nos permita aplicarla cada vez que lo necesitemos.\n",
        "\n",
        "- Escribir una función que calcule el promedio de 3 notas y devuelva ese valor usando **`return`**.\n",
        "- Reescribir la función anterior modificandola para asignar una importancia al primer examen de 20%, al segundo de 50% y al tercero de 30%.\n",
        "- Llamar la función anterior 3 veces con distintas notas y verificar, mediante la instrucción **`if`**, si el alumno aprobó o desaprobó en cada caso (suponga que 4 es la nota de aprobación)."
      ]
    },
    {
      "cell_type": "code",
      "metadata": {
        "id": "qzBWmoSMr5FA"
      },
      "source": [
        "# Código Ejercicio Cálculo de Promedio\n"
      ],
      "execution_count": null,
      "outputs": []
    },
    {
      "cell_type": "markdown",
      "metadata": {
        "id": "JlHgattpr5nZ"
      },
      "source": [
        "## 2. Una Buena e-stimación\n",
        "El número $e$ tiene inmensa utilidad para el análisis y la estadística, es una de las super-estrellas de la matemática, y su utilidad radica en que la función $e^x$  es igual a su derivada, por definición de $e$.\n",
        "\n",
        "Gracias a las series de Taylor podemos obtener la siguiente definición del número $e$:\n",
        "\n",
        "$e=1+\\frac{1}{1!}+\\frac{1}{2!}+\\frac{1}{3!}+\\frac{1}{4!}+\\frac{1}{5!}+...$\n",
        "\n",
        "Hacer una función para obtener una aproximación del número $e$ calculando la suma de los primeros $n$ términos de esta sucesión infinita.\n",
        "\n",
        "**Tips**\n",
        "* $n! = 1\\cdot 2\\cdot 3 \\cdot\\ ...\\ \\cdot n$."
      ]
    },
    {
      "cell_type": "code",
      "metadata": {
        "id": "Zm9UKUw1n0TD"
      },
      "source": [
        "# Código Ejercicio Buena e-stimación\n"
      ],
      "execution_count": null,
      "outputs": []
    },
    {
      "cell_type": "markdown",
      "metadata": {
        "id": "QAu-2UAor8HI"
      },
      "source": [
        "## 3. ¿Es Múltiplo de?\n",
        "Escriba un programa que imprima los números del 1 al 100, que para cada número que sea múltiplo de 3 imprima  `N3`, para los múltiplos de 5 imprima `N5`, y para los múltiplos de los dos, `N3N5`.\n",
        "\n",
        "**Tips**\n",
        "* ¡Si el número es divisible por 3 entonces el resto de la división vale cero!\n",
        "```\n",
        "numero % 3 == 0\n",
        ">> True\n",
        "```\n",
        "* Usar los comandos **`for`** e **`if`**."
      ]
    },
    {
      "cell_type": "code",
      "metadata": {
        "id": "6a7PcaYkr_gA"
      },
      "source": [
        "# Código Ejercicio Múltiplo\n"
      ],
      "execution_count": null,
      "outputs": []
    }
  ]
}